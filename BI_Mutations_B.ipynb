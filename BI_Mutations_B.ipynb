{
 "cells": [
  {
   "cell_type": "code",
   "execution_count": 2,
   "metadata": {},
   "outputs": [],
   "source": [
    "import numpy as np\n",
    "import pandas as pd\n",
    "import string"
   ]
  },
  {
   "cell_type": "code",
   "execution_count": 133,
   "metadata": {},
   "outputs": [
    {
     "data": {
      "text/html": [
       "<div>\n",
       "<style scoped>\n",
       "    .dataframe tbody tr th:only-of-type {\n",
       "        vertical-align: middle;\n",
       "    }\n",
       "\n",
       "    .dataframe tbody tr th {\n",
       "        vertical-align: top;\n",
       "    }\n",
       "\n",
       "    .dataframe thead th {\n",
       "        text-align: right;\n",
       "    }\n",
       "</style>\n",
       "<table border=\"1\" class=\"dataframe\">\n",
       "  <thead>\n",
       "    <tr style=\"text-align: right;\">\n",
       "      <th></th>\n",
       "      <th>A</th>\n",
       "      <th>B</th>\n",
       "    </tr>\n",
       "    <tr>\n",
       "      <th>Unnamed: 0</th>\n",
       "      <th></th>\n",
       "      <th></th>\n",
       "    </tr>\n",
       "  </thead>\n",
       "  <tbody>\n",
       "    <tr>\n",
       "      <th>A</th>\n",
       "      <td>0.377</td>\n",
       "      <td>0.623</td>\n",
       "    </tr>\n",
       "    <tr>\n",
       "      <th>B</th>\n",
       "      <td>0.260</td>\n",
       "      <td>0.740</td>\n",
       "    </tr>\n",
       "  </tbody>\n",
       "</table>\n",
       "</div>"
      ],
      "text/plain": [
       "                A      B\n",
       "Unnamed: 0              \n",
       "A           0.377  0.623\n",
       "B           0.260  0.740"
      ]
     },
     "execution_count": 133,
     "metadata": {},
     "output_type": "execute_result"
    }
   ],
   "source": [
    "pr_sigma_states = pd.read_csv(\"D:/Data Science/Coursera/Bioinformatics/Find mutation of DNA_RNA_Protein/Book8.csv\")\n",
    "pr_sigma_states.set_index('Unnamed: 0', inplace = True)\n",
    "pr_sigma_states"
   ]
  },
  {
   "cell_type": "code",
   "execution_count": 128,
   "metadata": {},
   "outputs": [],
   "source": [
    "Sigma = \"ABABBBAAAA\""
   ]
  },
  {
   "cell_type": "code",
   "execution_count": 134,
   "metadata": {},
   "outputs": [],
   "source": [
    "def get_transisions(Sigma):\n",
    "    transitions = []\n",
    "    for i in range(1, len(Sigma)):\n",
    "        transitions.append(pr_sigma_states.loc[Sigma[i-1], Sigma[i]])\n",
    "    pr_sigma = (1/2)*np.prod(transitions)\n",
    "    return(pr_sigma)"
   ]
  },
  {
   "cell_type": "code",
   "execution_count": 135,
   "metadata": {},
   "outputs": [
    {
     "data": {
      "text/plain": [
       "0.0003849286917546758"
      ]
     },
     "execution_count": 135,
     "metadata": {},
     "output_type": "execute_result"
    }
   ],
   "source": [
    "get_transisions(Sigma)"
   ]
  },
  {
   "cell_type": "code",
   "execution_count": 136,
   "metadata": {},
   "outputs": [
    {
     "data": {
      "text/html": [
       "<div>\n",
       "<style scoped>\n",
       "    .dataframe tbody tr th:only-of-type {\n",
       "        vertical-align: middle;\n",
       "    }\n",
       "\n",
       "    .dataframe tbody tr th {\n",
       "        vertical-align: top;\n",
       "    }\n",
       "\n",
       "    .dataframe thead th {\n",
       "        text-align: right;\n",
       "    }\n",
       "</style>\n",
       "<table border=\"1\" class=\"dataframe\">\n",
       "  <thead>\n",
       "    <tr style=\"text-align: right;\">\n",
       "      <th></th>\n",
       "      <th>Unnamed: 0</th>\n",
       "      <th>x</th>\n",
       "      <th>y</th>\n",
       "      <th>z</th>\n",
       "    </tr>\n",
       "  </thead>\n",
       "  <tbody>\n",
       "    <tr>\n",
       "      <th>0</th>\n",
       "      <td>A</td>\n",
       "      <td>0.429</td>\n",
       "      <td>0.422</td>\n",
       "      <td>0.149</td>\n",
       "    </tr>\n",
       "    <tr>\n",
       "      <th>1</th>\n",
       "      <td>B</td>\n",
       "      <td>0.662</td>\n",
       "      <td>0.052</td>\n",
       "      <td>0.286</td>\n",
       "    </tr>\n",
       "  </tbody>\n",
       "</table>\n",
       "</div>"
      ],
      "text/plain": [
       "  Unnamed: 0      x      y      z\n",
       "0          A  0.429  0.422  0.149\n",
       "1          B  0.662  0.052  0.286"
      ]
     },
     "execution_count": 136,
     "metadata": {},
     "output_type": "execute_result"
    }
   ],
   "source": [
    "pr_emis_states = pd.read_csv(\"D:/Data Science/Coursera/Bioinformatics/Find mutation of DNA_RNA_Protein/Book6.csv\")\n",
    "pr_emis_states"
   ]
  },
  {
   "cell_type": "code",
   "execution_count": 137,
   "metadata": {},
   "outputs": [],
   "source": [
    "pr_emis_states.set_index('Unnamed: 0', inplace = True)"
   ]
  },
  {
   "cell_type": "code",
   "execution_count": 138,
   "metadata": {},
   "outputs": [
    {
     "data": {
      "text/html": [
       "<div>\n",
       "<style scoped>\n",
       "    .dataframe tbody tr th:only-of-type {\n",
       "        vertical-align: middle;\n",
       "    }\n",
       "\n",
       "    .dataframe tbody tr th {\n",
       "        vertical-align: top;\n",
       "    }\n",
       "\n",
       "    .dataframe thead th {\n",
       "        text-align: right;\n",
       "    }\n",
       "</style>\n",
       "<table border=\"1\" class=\"dataframe\">\n",
       "  <thead>\n",
       "    <tr style=\"text-align: right;\">\n",
       "      <th></th>\n",
       "      <th>x</th>\n",
       "      <th>y</th>\n",
       "      <th>z</th>\n",
       "    </tr>\n",
       "    <tr>\n",
       "      <th>Unnamed: 0</th>\n",
       "      <th></th>\n",
       "      <th></th>\n",
       "      <th></th>\n",
       "    </tr>\n",
       "  </thead>\n",
       "  <tbody>\n",
       "    <tr>\n",
       "      <th>A</th>\n",
       "      <td>0.429</td>\n",
       "      <td>0.422</td>\n",
       "      <td>0.149</td>\n",
       "    </tr>\n",
       "    <tr>\n",
       "      <th>B</th>\n",
       "      <td>0.662</td>\n",
       "      <td>0.052</td>\n",
       "      <td>0.286</td>\n",
       "    </tr>\n",
       "  </tbody>\n",
       "</table>\n",
       "</div>"
      ],
      "text/plain": [
       "                x      y      z\n",
       "Unnamed: 0                     \n",
       "A           0.429  0.422  0.149\n",
       "B           0.662  0.052  0.286"
      ]
     },
     "execution_count": 138,
     "metadata": {},
     "output_type": "execute_result"
    }
   ],
   "source": [
    "pr_emis_states"
   ]
  },
  {
   "cell_type": "code",
   "execution_count": 139,
   "metadata": {},
   "outputs": [],
   "source": [
    "Sigma = \"BBAAAABBABBBBAAABBBBBBBBBAAAABBBAABBBABABBBAABAABB\"\n",
    "States = \"yyzzyxzxyzxyxyzzyzyxyzyzxxxxzxxxzzzzxyxyxyxyxxzyzx\""
   ]
  },
  {
   "cell_type": "code",
   "execution_count": 140,
   "metadata": {},
   "outputs": [],
   "source": [
    "def get_emission(Sigma, States):\n",
    "    pr_emis = []\n",
    "    for i in range(len(Sigma)):\n",
    "        pr_emis.append(pr_emis_states.loc[Sigma[i], States[i]])\n",
    "    pr_es = np.prod(pr_emis)\n",
    "    return(pr_es)"
   ]
  },
  {
   "cell_type": "code",
   "execution_count": 141,
   "metadata": {},
   "outputs": [
    {
     "data": {
      "text/plain": [
       "6.250728434673316e-29"
      ]
     },
     "execution_count": 141,
     "metadata": {},
     "output_type": "execute_result"
    }
   ],
   "source": [
    "emission(Sigma, States)"
   ]
  },
  {
   "cell_type": "markdown",
   "metadata": {},
   "source": [
    "# Profile HMMs for Sequence Alignment"
   ]
  },
  {
   "cell_type": "code",
   "execution_count": 87,
   "metadata": {},
   "outputs": [],
   "source": [
    "alignment = []\n",
    "#with open('D:/Data Science/Coursera/Bioinformatics/Find mutation of DNA_RNA_Protein/hmm_7.txt') as f:\n",
    "with open('D:/Data Science/Coursera/Bioinformatics/Find mutation of DNA_RNA_Protein/hmm_8.txt') as f:\n",
    "  while True:\n",
    "    s = []\n",
    "    c = f.readline().replace(\"\\n\", \"\")\n",
    "    for x in c:\n",
    "        s.append(x)\n",
    "    if not c:\n",
    "      break \n",
    "    alignment.append(s)\n",
    "alignment = np.array(alignment)"
   ]
  },
  {
   "cell_type": "code",
   "execution_count": 38,
   "metadata": {},
   "outputs": [
    {
     "data": {
      "text/plain": [
       "array([['A', 'C', 'D', 'E', 'F', 'A', 'C', 'A', 'D', 'F'],\n",
       "       ['A', 'F', 'D', 'A', '-', '-', '-', 'C', 'C', 'F'],\n",
       "       ['A', '-', '-', 'E', 'F', 'D', '-', 'F', 'D', 'C'],\n",
       "       ['A', 'C', 'A', 'E', 'F', '-', '-', 'A', '-', 'C'],\n",
       "       ['A', 'D', 'D', 'E', 'F', 'A', 'A', 'A', 'D', 'F']], dtype='<U1')"
      ]
     },
     "execution_count": 38,
     "metadata": {},
     "output_type": "execute_result"
    }
   ],
   "source": [
    "alignment"
   ]
  },
  {
   "cell_type": "code",
   "execution_count": 88,
   "metadata": {},
   "outputs": [],
   "source": [
    "N, D = alignment.shape\n",
    "theta = 0.289"
   ]
  },
  {
   "cell_type": "code",
   "execution_count": 89,
   "metadata": {},
   "outputs": [],
   "source": [
    "alphabet = list(string.ascii_uppercase)"
   ]
  },
  {
   "cell_type": "code",
   "execution_count": 41,
   "metadata": {},
   "outputs": [],
   "source": [
    "def get_alignment_seed(alignment, theta):\n",
    "    ignore = []\n",
    "    index = [i for i in range(D)]\n",
    "    for i in range(D):\n",
    "        apear = alignment[:, i].tolist().count(\"-\")\n",
    "        prop = apear/N\n",
    "        if prop > theta or prop == theta:\n",
    "            ignore.append(i) \n",
    "    true = list(set(index).difference(set(ignore)))\n",
    "    return(alignment[:, true], alignment[:, ignore], true, ignore)"
   ]
  },
  {
   "cell_type": "code",
   "execution_count": 90,
   "metadata": {},
   "outputs": [
    {
     "data": {
      "text/plain": [
       "2"
      ]
     },
     "execution_count": 90,
     "metadata": {},
     "output_type": "execute_result"
    }
   ],
   "source": [
    "N_seed = get_alignment_seed(alignment, theta)[0].shape[1]\n",
    "N_seed"
   ]
  },
  {
   "cell_type": "code",
   "execution_count": 43,
   "metadata": {},
   "outputs": [],
   "source": [
    "def get_states_alignment(alignment, theta):\n",
    "\n",
    "    alignment_seed = get_alignment_seed(alignment, theta)[0]\n",
    "    alignment_ignore = get_alignment_seed(alignment, theta)[1]\n",
    "    true = get_alignment_seed(alignment, theta)[2]\n",
    "    ignore = get_alignment_seed(alignment, theta)[3]\n",
    "    st_al_df = pd.DataFrame({'S': np.zeros((N))})\n",
    "    \n",
    "    if ignore == []:\n",
    "        st_al_df['I0'] = np.zeros((N))\n",
    "    elif ignore != []:\n",
    "        if ignore[0] == 0:\n",
    "            st_al_df['I0'] = alignment_ignore[:, 0]\n",
    "        elif ignore[0] != 0:\n",
    "            st_al_df['I0'] = np.zeros((N))\n",
    "        \n",
    "    k = alignment_seed.shape[1]\n",
    "    for i in range(k):\n",
    "        st_al_df['M' + str(i+1)] = alignment_seed[:, i]\n",
    "        st_al_df['D' + str(i+1)] = np.zeros(N) \n",
    "        \n",
    "        ind = []\n",
    "        for index in ignore:\n",
    "            if i < k-1: \n",
    "                if index > true[i] and index < true[i+1]:\n",
    "                    ind.append(index)\n",
    "            else:\n",
    "                if index > true[i]:\n",
    "                    ind.append(index)\n",
    "        \n",
    "        if ind != []:\n",
    "            col = []\n",
    "            for j in range(N):\n",
    "                x = alignment[j, ind]\n",
    "                counting_alphabet = len(list(set(x).intersection(set(alphabet))))\n",
    "\n",
    "                if counting_alphabet == len(x):\n",
    "                    col.append(\"\".join(x))\n",
    "                elif counting_alphabet < len(x) and counting_alphabet > 0:\n",
    "                    string = []\n",
    "                    for y in x:\n",
    "                        if y != \"-\":\n",
    "                            string.append(y)\n",
    "                    col.append(\"\".join(string))\n",
    "                elif counting_alphabet == 0:\n",
    "                    col.append(\"-\")\n",
    "\n",
    "            st_al_df['I' + str(i+1)] = col\n",
    "        else:\n",
    "            st_al_df['I' + str(i+1)] = np.zeros((N))\n",
    "         \n",
    "    st_al_df[\"E\"] = np.zeros((N))\n",
    "    for i in range(1, alignment_seed.shape[1]+1):\n",
    "        for j in range(N):\n",
    "            if st_al_df['M' + str(i)][j] == \"-\":\n",
    "                st_al_df['D' + str(i)][j] = \"-\"\n",
    "    return(st_al_df)"
   ]
  },
  {
   "cell_type": "code",
   "execution_count": 91,
   "metadata": {},
   "outputs": [
    {
     "name": "stderr",
     "output_type": "stream",
     "text": [
      "C:\\ProgramData\\Anaconda3\\lib\\site-packages\\ipykernel_launcher.py:56: SettingWithCopyWarning: \n",
      "A value is trying to be set on a copy of a slice from a DataFrame\n",
      "\n",
      "See the caveats in the documentation: http://pandas.pydata.org/pandas-docs/stable/indexing.html#indexing-view-versus-copy\n"
     ]
    }
   ],
   "source": [
    "states_alignment_df = get_states_alignment(alignment, theta)"
   ]
  },
  {
   "cell_type": "code",
   "execution_count": 92,
   "metadata": {},
   "outputs": [
    {
     "data": {
      "text/html": [
       "<div>\n",
       "<style scoped>\n",
       "    .dataframe tbody tr th:only-of-type {\n",
       "        vertical-align: middle;\n",
       "    }\n",
       "\n",
       "    .dataframe tbody tr th {\n",
       "        vertical-align: top;\n",
       "    }\n",
       "\n",
       "    .dataframe thead th {\n",
       "        text-align: right;\n",
       "    }\n",
       "</style>\n",
       "<table border=\"1\" class=\"dataframe\">\n",
       "  <thead>\n",
       "    <tr style=\"text-align: right;\">\n",
       "      <th></th>\n",
       "      <th>S</th>\n",
       "      <th>I0</th>\n",
       "      <th>M1</th>\n",
       "      <th>D1</th>\n",
       "      <th>I1</th>\n",
       "      <th>M2</th>\n",
       "      <th>D2</th>\n",
       "      <th>I2</th>\n",
       "      <th>E</th>\n",
       "    </tr>\n",
       "  </thead>\n",
       "  <tbody>\n",
       "    <tr>\n",
       "      <th>0</th>\n",
       "      <td>0.0</td>\n",
       "      <td>0.0</td>\n",
       "      <td>E</td>\n",
       "      <td>0.0</td>\n",
       "      <td>B</td>\n",
       "      <td>A</td>\n",
       "      <td>0</td>\n",
       "      <td>0.0</td>\n",
       "      <td>0.0</td>\n",
       "    </tr>\n",
       "    <tr>\n",
       "      <th>1</th>\n",
       "      <td>0.0</td>\n",
       "      <td>0.0</td>\n",
       "      <td>E</td>\n",
       "      <td>0.0</td>\n",
       "      <td>-</td>\n",
       "      <td>D</td>\n",
       "      <td>0</td>\n",
       "      <td>0.0</td>\n",
       "      <td>0.0</td>\n",
       "    </tr>\n",
       "    <tr>\n",
       "      <th>2</th>\n",
       "      <td>0.0</td>\n",
       "      <td>0.0</td>\n",
       "      <td>E</td>\n",
       "      <td>0.0</td>\n",
       "      <td>B</td>\n",
       "      <td>-</td>\n",
       "      <td>-</td>\n",
       "      <td>0.0</td>\n",
       "      <td>0.0</td>\n",
       "    </tr>\n",
       "    <tr>\n",
       "      <th>3</th>\n",
       "      <td>0.0</td>\n",
       "      <td>0.0</td>\n",
       "      <td>E</td>\n",
       "      <td>0.0</td>\n",
       "      <td>E</td>\n",
       "      <td>D</td>\n",
       "      <td>0</td>\n",
       "      <td>0.0</td>\n",
       "      <td>0.0</td>\n",
       "    </tr>\n",
       "    <tr>\n",
       "      <th>4</th>\n",
       "      <td>0.0</td>\n",
       "      <td>0.0</td>\n",
       "      <td>E</td>\n",
       "      <td>0.0</td>\n",
       "      <td>B</td>\n",
       "      <td>D</td>\n",
       "      <td>0</td>\n",
       "      <td>0.0</td>\n",
       "      <td>0.0</td>\n",
       "    </tr>\n",
       "    <tr>\n",
       "      <th>5</th>\n",
       "      <td>0.0</td>\n",
       "      <td>0.0</td>\n",
       "      <td>E</td>\n",
       "      <td>0.0</td>\n",
       "      <td>B</td>\n",
       "      <td>E</td>\n",
       "      <td>0</td>\n",
       "      <td>0.0</td>\n",
       "      <td>0.0</td>\n",
       "    </tr>\n",
       "    <tr>\n",
       "      <th>6</th>\n",
       "      <td>0.0</td>\n",
       "      <td>0.0</td>\n",
       "      <td>E</td>\n",
       "      <td>0.0</td>\n",
       "      <td>-</td>\n",
       "      <td>D</td>\n",
       "      <td>0</td>\n",
       "      <td>0.0</td>\n",
       "      <td>0.0</td>\n",
       "    </tr>\n",
       "    <tr>\n",
       "      <th>7</th>\n",
       "      <td>0.0</td>\n",
       "      <td>0.0</td>\n",
       "      <td>E</td>\n",
       "      <td>0.0</td>\n",
       "      <td>-</td>\n",
       "      <td>D</td>\n",
       "      <td>0</td>\n",
       "      <td>0.0</td>\n",
       "      <td>0.0</td>\n",
       "    </tr>\n",
       "  </tbody>\n",
       "</table>\n",
       "</div>"
      ],
      "text/plain": [
       "     S   I0 M1   D1 I1 M2 D2   I2    E\n",
       "0  0.0  0.0  E  0.0  B  A  0  0.0  0.0\n",
       "1  0.0  0.0  E  0.0  -  D  0  0.0  0.0\n",
       "2  0.0  0.0  E  0.0  B  -  -  0.0  0.0\n",
       "3  0.0  0.0  E  0.0  E  D  0  0.0  0.0\n",
       "4  0.0  0.0  E  0.0  B  D  0  0.0  0.0\n",
       "5  0.0  0.0  E  0.0  B  E  0  0.0  0.0\n",
       "6  0.0  0.0  E  0.0  -  D  0  0.0  0.0\n",
       "7  0.0  0.0  E  0.0  -  D  0  0.0  0.0"
      ]
     },
     "execution_count": 92,
     "metadata": {},
     "output_type": "execute_result"
    }
   ],
   "source": [
    "states_alignment_df"
   ]
  },
  {
   "cell_type": "code",
   "execution_count": 46,
   "metadata": {},
   "outputs": [],
   "source": [
    "states_alignment_df.to_csv (\"D:/Data Science/Coursera/Bioinformatics/Find mutation of DNA_RNA_Protein/states_alignment_df.csv\", index = True, header=True)"
   ]
  },
  {
   "cell_type": "code",
   "execution_count": 93,
   "metadata": {},
   "outputs": [],
   "source": [
    "sigma = [\"A\", \"B\", \"C\", \"D\", \"E\"]"
   ]
  },
  {
   "cell_type": "code",
   "execution_count": 94,
   "metadata": {},
   "outputs": [],
   "source": [
    "def get_emission(alignment, theta, sigma):\n",
    "    state_alignment_df = get_states_alignment(alignment, theta)\n",
    "    columns = state_alignment_df.columns.values\n",
    "    prop = []\n",
    "    for x in columns:\n",
    "        total = 0\n",
    "        for t in state_alignment_df[x]:\n",
    "            if t != \"-\" and t != 0:\n",
    "                total += len(t)\n",
    "        \n",
    "        prop_sub = []\n",
    "        for z in sigma:\n",
    "            c = 0\n",
    "            for t in state_alignment_df[x]:\n",
    "                if t != 0:\n",
    "                    c += t.count(z)\n",
    "            if total != 0:\n",
    "                prop_sub.append(c/total)  \n",
    "            else:\n",
    "                prop_sub.append(0)\n",
    "        prop.append(prop_sub)  \n",
    "    emisson = pd.DataFrame(np.array(prop), index = columns, columns = sigma)\n",
    "    return(emisson)"
   ]
  },
  {
   "cell_type": "code",
   "execution_count": 95,
   "metadata": {},
   "outputs": [],
   "source": [
    "def trans_prop(alignment, theta):\n",
    "    \n",
    "    alignment_seed = get_alignment_seed(alignment, theta)[0]\n",
    "    state_alignment_df = get_states_alignment(alignment, theta)\n",
    "    cols = state_alignment_df.columns.values\n",
    "    m = len(cols)\n",
    "    trans_prop = pd.DataFrame(np.zeros((m, m)), index = cols, columns = cols)\n",
    "    end = alignment_seed.shape[1]\n",
    "    \n",
    "    prop_im = []\n",
    "    prop_id = []\n",
    "    prop_md = []\n",
    "    prop_mi = []\n",
    "    prop_mm = []\n",
    "    prop_di = []\n",
    "    prop_dm = []\n",
    "    prop_dd = []\n",
    "    prop_ii = []    \n",
    "    prop_ie = []\n",
    "    prop_de = []\n",
    "    prop_me = []\n",
    "    \n",
    "    count_si = 0\n",
    "    count_sd = 0\n",
    "    count_sm = 0\n",
    "    count_ie = 0\n",
    "    count_de = 0\n",
    "    count_me = 0\n",
    "    count_mie = 0\n",
    "    \n",
    "    denom_iee = 0\n",
    "    denom_dee = N\n",
    "    denom_mee = N\n",
    "    \n",
    "    for x, y, z in zip(state_alignment_df['I0'], state_alignment_df['D1'], state_alignment_df['M1']):\n",
    "        if x != 0 and x != '-':\n",
    "            count_si += 1\n",
    "        if y == \"-\":\n",
    "            count_sd += 1\n",
    "        if z != \"-\":\n",
    "            count_sm += 1\n",
    "            \n",
    "        if x != \"-\" and x != 0:\n",
    "            counting_alphabet = len(x)\n",
    "            trans_prop.loc['I0', 'I0'] = (counting_alphabet-1)/N\n",
    "        else:\n",
    "            trans_prop.loc['I0', 'I0'] = 0\n",
    "    prop_si = count_si/N\n",
    "    prop_sd = count_sd/N\n",
    "    prop_sm = count_sm/N\n",
    "    \n",
    "    trans_prop.loc['S', 'I0'] = prop_si\n",
    "    trans_prop.loc['S', 'M1'] = prop_sm\n",
    "    trans_prop.loc['S', 'D1'] = prop_sd\n",
    "    \n",
    "    for x, y, z in zip(state_alignment_df['I'+str(end)],\n",
    "                       state_alignment_df['D'+str(end)],\n",
    "                       state_alignment_df['M'+str(end)]):\n",
    "        if x != 0 and x != '-':\n",
    "            count_ie += 1\n",
    "        if y == \"-\":\n",
    "            count_de += 1\n",
    "        if z != \"-\" and x == \"-\" or x == 0:\n",
    "            count_me += 1\n",
    "        elif z != \"-\" and x != \"-\" and x!= 0:\n",
    "            count_mie += 1\n",
    "        if x != \"-\" and x!= 0:\n",
    "            denom_iee += len(x)\n",
    "        if y != \"-\":\n",
    "            denom_dee -= 1\n",
    "        if z == \"-\":\n",
    "            denom_mee -= 1\n",
    "    if denom_iee != 0:        \n",
    "        prop_ie = count_ie/denom_iee\n",
    "    else:\n",
    "        prop_ie = 0   \n",
    "    if  denom_dee != 0:\n",
    "        prop_de = count_de/denom_dee\n",
    "    else:    \n",
    "        prop_de = 0\n",
    "    if denom_mee != 0:   \n",
    "        prop_me = count_me/denom_mee\n",
    "        prop_mie = count_mie/denom_mee\n",
    "    else:\n",
    "        prop_me = 0\n",
    "    \n",
    "    trans_prop.loc['I'+str(end), 'E'] = prop_ie\n",
    "    trans_prop.loc['M'+str(end), 'E'] = prop_me\n",
    "    trans_prop.loc['D'+str(end), 'E'] = prop_de \n",
    "    trans_prop.loc['M'+str(end), 'I'+str(end)] = prop_mie\n",
    "\n",
    "    for i in range(1, end):\n",
    "        count_ii = 0  \n",
    "        count_im = 0\n",
    "        count_id = 0\n",
    "        count_md = 0\n",
    "        count_mi = 0\n",
    "        count_mm = 0\n",
    "        count_di = 0\n",
    "        count_dm = 0\n",
    "        count_dd = 0\n",
    "        denom_m = N\n",
    "        denom_d = N\n",
    "        denom_ii = 0\n",
    "        denom_imd = 0\n",
    "\n",
    "        for x, y, z, t in zip(state_alignment_df['M'+str(i)], \n",
    "                              state_alignment_df['D'+str(i+1)], \n",
    "                              state_alignment_df['I'+str(i)],\n",
    "                              state_alignment_df['M'+str(i+1)]):\n",
    "            \n",
    "            if x != \"-\" and z !=0 and z!= \"-\":\n",
    "                count_mi += 1    \n",
    "            elif x != \"-\" and (z == 0 or z == \"-\"):     \n",
    "                if t != \"-\":\n",
    "                    count_mm += 1\n",
    "                else:\n",
    "                    count_md += 1\n",
    "            if x == \"-\":\n",
    "                denom_m -= 1\n",
    "            \n",
    "            if z != \"-\" and z != 0:\n",
    "                count_ii += len(z) - 1\n",
    "                denom_ii += len(z) \n",
    "        \n",
    "        for x, y, z in zip(state_alignment_df['I'+str(i-1)], \n",
    "                           state_alignment_df['M'+str(i)], \n",
    "                           state_alignment_df['D'+str(i)]):\n",
    "            if x != 0 and x != \"-\" and y!= \"-\":\n",
    "                count_im += 1\n",
    "            if x != 0 and x != \"-\" and z == \"-\":\n",
    "                count_id += 1 \n",
    "            if x != 0 and x != \"-\":\n",
    "                denom_imd += len(x)\n",
    "        if denom_imd != 0:        \n",
    "            prop_im.append(count_im/denom_imd)\n",
    "            prop_id.append(count_id/denom_imd)\n",
    "        else: \n",
    "            prop_im.append(0)\n",
    "            prop_id.append(0)\n",
    "            \n",
    "        if denom_m != 0:\n",
    "            prop_md.append(count_md/denom_m)\n",
    "            prop_mi.append(count_mi/denom_m)\n",
    "            prop_mm.append(count_mm/denom_m)\n",
    "        else:\n",
    "            prop_md.append(0)\n",
    "            prop_mi.append(0)\n",
    "            prop_mm.append(0)\n",
    "            \n",
    "        if denom_ii != 0:\n",
    "            prop_ii.append(count_ii/denom_ii)\n",
    "        else:\n",
    "            prop_ii.append(0)\n",
    "            \n",
    "        for x, y, z, t in zip(state_alignment_df['D'+str(i)], \n",
    "                              state_alignment_df['I'+str(i)], \n",
    "                              state_alignment_df['M'+str(i+1)],\n",
    "                              state_alignment_df['D'+str(i+1)]):\n",
    "            if x == \"-\" and y != 0 and y != \"-\":\n",
    "                count_di += 1\n",
    "            if x == \"-\" and z!= \"-\":\n",
    "                count_dm += 1\n",
    "            if x == \"-\" and t == \"-\":\n",
    "                count_dd += 1\n",
    "            if x != \"-\":\n",
    "                denom_d -= 1\n",
    "\n",
    "        if denom_d != 0:\n",
    "            prop_di.append(count_di/denom_d) \n",
    "            prop_dm.append(count_dm/denom_d)\n",
    "            prop_dd.append(count_dd/denom_d)\n",
    "        else:\n",
    "            prop_di.append(0)\n",
    "            prop_dm.append(0)\n",
    "            prop_dd.append(0)\n",
    "        \n",
    "        trans_prop.loc['I'+str(i), 'I'+str(i)] = prop_ii[i-1]\n",
    "        trans_prop.loc['I'+str(i-1), 'D'+str(i)] = prop_id[i-1]\n",
    "        trans_prop.loc['I'+str(i-1), 'M'+str(i)] = prop_im[i-1]\n",
    "        trans_prop.loc['M'+str(i), 'D'+str(i+1)] = prop_md[i-1]\n",
    "        trans_prop.loc['M'+str(i), 'I'+str(i)] = prop_mi[i-1]\n",
    "        trans_prop.loc['M'+str(i), 'M'+str(i+1)] = prop_mm[i-1]\n",
    "        trans_prop.loc['D'+str(i), 'I'+str(i)] = prop_di[i-1]\n",
    "        trans_prop.loc['D'+str(i), 'D'+str(i+1)] = prop_dd[i-1]\n",
    "        trans_prop.loc['D'+str(i), 'M'+str(i+1)] = prop_dm[i-1]\n",
    "        \n",
    "    count_ime = 0\n",
    "    count_ide = 0\n",
    "    count_mie = 0\n",
    "    denom_ie = 0\n",
    "    \n",
    "    for x, y, z in zip( state_alignment_df['I'+str(end-1)], \n",
    "                        state_alignment_df['M'+str(end)], \n",
    "                        state_alignment_df['D'+str(end)]):\n",
    "        if x != 0 and x != \"-\" and y!= \"-\":\n",
    "            count_ime += 1\n",
    "        if x != 0 and x != \"-\" and z == \"-\":\n",
    "            count_ide += 1\n",
    "        if x != \"-\" and x != 0:\n",
    "            denom_ie += len(x)\n",
    "            \n",
    "    if denom_ie != 0:        \n",
    "        prop_ime = count_ime/denom_ie\n",
    "        prop_ide = count_ide/denom_ie\n",
    "    else: \n",
    "        prop_ime = 0\n",
    "        prop_ide = 0\n",
    "        \n",
    "    trans_prop.loc['I'+str(end-1), 'M'+str(end)] = prop_ime\n",
    "    trans_prop.loc['I'+str(end-1), 'D'+str(end)] = prop_ide\n",
    "    \n",
    "    return(trans_prop)"
   ]
  },
  {
   "cell_type": "code",
   "execution_count": 96,
   "metadata": {},
   "outputs": [
    {
     "name": "stderr",
     "output_type": "stream",
     "text": [
      "C:\\ProgramData\\Anaconda3\\lib\\site-packages\\ipykernel_launcher.py:56: SettingWithCopyWarning: \n",
      "A value is trying to be set on a copy of a slice from a DataFrame\n",
      "\n",
      "See the caveats in the documentation: http://pandas.pydata.org/pandas-docs/stable/indexing.html#indexing-view-versus-copy\n"
     ]
    }
   ],
   "source": [
    "emit_p= get_emission(alignment, theta, sigma)"
   ]
  },
  {
   "cell_type": "code",
   "execution_count": 97,
   "metadata": {},
   "outputs": [
    {
     "name": "stderr",
     "output_type": "stream",
     "text": [
      "C:\\ProgramData\\Anaconda3\\lib\\site-packages\\ipykernel_launcher.py:56: SettingWithCopyWarning: \n",
      "A value is trying to be set on a copy of a slice from a DataFrame\n",
      "\n",
      "See the caveats in the documentation: http://pandas.pydata.org/pandas-docs/stable/indexing.html#indexing-view-versus-copy\n"
     ]
    }
   ],
   "source": [
    "trans_p = trans_prop(alignment, theta)"
   ]
  },
  {
   "cell_type": "code",
   "execution_count": 98,
   "metadata": {},
   "outputs": [
    {
     "data": {
      "text/html": [
       "<div>\n",
       "<style scoped>\n",
       "    .dataframe tbody tr th:only-of-type {\n",
       "        vertical-align: middle;\n",
       "    }\n",
       "\n",
       "    .dataframe tbody tr th {\n",
       "        vertical-align: top;\n",
       "    }\n",
       "\n",
       "    .dataframe thead th {\n",
       "        text-align: right;\n",
       "    }\n",
       "</style>\n",
       "<table border=\"1\" class=\"dataframe\">\n",
       "  <thead>\n",
       "    <tr style=\"text-align: right;\">\n",
       "      <th></th>\n",
       "      <th>A</th>\n",
       "      <th>B</th>\n",
       "      <th>C</th>\n",
       "      <th>D</th>\n",
       "      <th>E</th>\n",
       "    </tr>\n",
       "  </thead>\n",
       "  <tbody>\n",
       "    <tr>\n",
       "      <th>S</th>\n",
       "      <td>0.000000</td>\n",
       "      <td>0.0</td>\n",
       "      <td>0.0</td>\n",
       "      <td>0.000000</td>\n",
       "      <td>0.000000</td>\n",
       "    </tr>\n",
       "    <tr>\n",
       "      <th>I0</th>\n",
       "      <td>0.000000</td>\n",
       "      <td>0.0</td>\n",
       "      <td>0.0</td>\n",
       "      <td>0.000000</td>\n",
       "      <td>0.000000</td>\n",
       "    </tr>\n",
       "    <tr>\n",
       "      <th>M1</th>\n",
       "      <td>0.000000</td>\n",
       "      <td>0.0</td>\n",
       "      <td>0.0</td>\n",
       "      <td>0.000000</td>\n",
       "      <td>1.000000</td>\n",
       "    </tr>\n",
       "    <tr>\n",
       "      <th>D1</th>\n",
       "      <td>0.000000</td>\n",
       "      <td>0.0</td>\n",
       "      <td>0.0</td>\n",
       "      <td>0.000000</td>\n",
       "      <td>0.000000</td>\n",
       "    </tr>\n",
       "    <tr>\n",
       "      <th>I1</th>\n",
       "      <td>0.000000</td>\n",
       "      <td>0.8</td>\n",
       "      <td>0.0</td>\n",
       "      <td>0.000000</td>\n",
       "      <td>0.200000</td>\n",
       "    </tr>\n",
       "    <tr>\n",
       "      <th>M2</th>\n",
       "      <td>0.142857</td>\n",
       "      <td>0.0</td>\n",
       "      <td>0.0</td>\n",
       "      <td>0.714286</td>\n",
       "      <td>0.142857</td>\n",
       "    </tr>\n",
       "    <tr>\n",
       "      <th>D2</th>\n",
       "      <td>0.000000</td>\n",
       "      <td>0.0</td>\n",
       "      <td>0.0</td>\n",
       "      <td>0.000000</td>\n",
       "      <td>0.000000</td>\n",
       "    </tr>\n",
       "    <tr>\n",
       "      <th>I2</th>\n",
       "      <td>0.000000</td>\n",
       "      <td>0.0</td>\n",
       "      <td>0.0</td>\n",
       "      <td>0.000000</td>\n",
       "      <td>0.000000</td>\n",
       "    </tr>\n",
       "    <tr>\n",
       "      <th>E</th>\n",
       "      <td>0.000000</td>\n",
       "      <td>0.0</td>\n",
       "      <td>0.0</td>\n",
       "      <td>0.000000</td>\n",
       "      <td>0.000000</td>\n",
       "    </tr>\n",
       "  </tbody>\n",
       "</table>\n",
       "</div>"
      ],
      "text/plain": [
       "           A    B    C         D         E\n",
       "S   0.000000  0.0  0.0  0.000000  0.000000\n",
       "I0  0.000000  0.0  0.0  0.000000  0.000000\n",
       "M1  0.000000  0.0  0.0  0.000000  1.000000\n",
       "D1  0.000000  0.0  0.0  0.000000  0.000000\n",
       "I1  0.000000  0.8  0.0  0.000000  0.200000\n",
       "M2  0.142857  0.0  0.0  0.714286  0.142857\n",
       "D2  0.000000  0.0  0.0  0.000000  0.000000\n",
       "I2  0.000000  0.0  0.0  0.000000  0.000000\n",
       "E   0.000000  0.0  0.0  0.000000  0.000000"
      ]
     },
     "execution_count": 98,
     "metadata": {},
     "output_type": "execute_result"
    }
   ],
   "source": [
    "emit_p"
   ]
  },
  {
   "cell_type": "code",
   "execution_count": 99,
   "metadata": {},
   "outputs": [
    {
     "data": {
      "text/html": [
       "<div>\n",
       "<style scoped>\n",
       "    .dataframe tbody tr th:only-of-type {\n",
       "        vertical-align: middle;\n",
       "    }\n",
       "\n",
       "    .dataframe tbody tr th {\n",
       "        vertical-align: top;\n",
       "    }\n",
       "\n",
       "    .dataframe thead th {\n",
       "        text-align: right;\n",
       "    }\n",
       "</style>\n",
       "<table border=\"1\" class=\"dataframe\">\n",
       "  <thead>\n",
       "    <tr style=\"text-align: right;\">\n",
       "      <th></th>\n",
       "      <th>S</th>\n",
       "      <th>I0</th>\n",
       "      <th>M1</th>\n",
       "      <th>D1</th>\n",
       "      <th>I1</th>\n",
       "      <th>M2</th>\n",
       "      <th>D2</th>\n",
       "      <th>I2</th>\n",
       "      <th>E</th>\n",
       "    </tr>\n",
       "  </thead>\n",
       "  <tbody>\n",
       "    <tr>\n",
       "      <th>S</th>\n",
       "      <td>0.0</td>\n",
       "      <td>0.0</td>\n",
       "      <td>1.0</td>\n",
       "      <td>0.0</td>\n",
       "      <td>0.000</td>\n",
       "      <td>0.000</td>\n",
       "      <td>0.0</td>\n",
       "      <td>0.0</td>\n",
       "      <td>0.000000</td>\n",
       "    </tr>\n",
       "    <tr>\n",
       "      <th>I0</th>\n",
       "      <td>0.0</td>\n",
       "      <td>0.0</td>\n",
       "      <td>0.0</td>\n",
       "      <td>0.0</td>\n",
       "      <td>0.000</td>\n",
       "      <td>0.000</td>\n",
       "      <td>0.0</td>\n",
       "      <td>0.0</td>\n",
       "      <td>0.000000</td>\n",
       "    </tr>\n",
       "    <tr>\n",
       "      <th>M1</th>\n",
       "      <td>0.0</td>\n",
       "      <td>0.0</td>\n",
       "      <td>0.0</td>\n",
       "      <td>0.0</td>\n",
       "      <td>0.625</td>\n",
       "      <td>0.375</td>\n",
       "      <td>0.0</td>\n",
       "      <td>0.0</td>\n",
       "      <td>0.000000</td>\n",
       "    </tr>\n",
       "    <tr>\n",
       "      <th>D1</th>\n",
       "      <td>0.0</td>\n",
       "      <td>0.0</td>\n",
       "      <td>0.0</td>\n",
       "      <td>0.0</td>\n",
       "      <td>0.000</td>\n",
       "      <td>0.000</td>\n",
       "      <td>0.0</td>\n",
       "      <td>0.0</td>\n",
       "      <td>0.000000</td>\n",
       "    </tr>\n",
       "    <tr>\n",
       "      <th>I1</th>\n",
       "      <td>0.0</td>\n",
       "      <td>0.0</td>\n",
       "      <td>0.0</td>\n",
       "      <td>0.0</td>\n",
       "      <td>0.000</td>\n",
       "      <td>0.800</td>\n",
       "      <td>0.2</td>\n",
       "      <td>0.0</td>\n",
       "      <td>0.000000</td>\n",
       "    </tr>\n",
       "    <tr>\n",
       "      <th>M2</th>\n",
       "      <td>0.0</td>\n",
       "      <td>0.0</td>\n",
       "      <td>0.0</td>\n",
       "      <td>0.0</td>\n",
       "      <td>0.000</td>\n",
       "      <td>0.000</td>\n",
       "      <td>0.0</td>\n",
       "      <td>0.0</td>\n",
       "      <td>1.142857</td>\n",
       "    </tr>\n",
       "    <tr>\n",
       "      <th>D2</th>\n",
       "      <td>0.0</td>\n",
       "      <td>0.0</td>\n",
       "      <td>0.0</td>\n",
       "      <td>0.0</td>\n",
       "      <td>0.000</td>\n",
       "      <td>0.000</td>\n",
       "      <td>0.0</td>\n",
       "      <td>0.0</td>\n",
       "      <td>1.000000</td>\n",
       "    </tr>\n",
       "    <tr>\n",
       "      <th>I2</th>\n",
       "      <td>0.0</td>\n",
       "      <td>0.0</td>\n",
       "      <td>0.0</td>\n",
       "      <td>0.0</td>\n",
       "      <td>0.000</td>\n",
       "      <td>0.000</td>\n",
       "      <td>0.0</td>\n",
       "      <td>0.0</td>\n",
       "      <td>0.000000</td>\n",
       "    </tr>\n",
       "    <tr>\n",
       "      <th>E</th>\n",
       "      <td>0.0</td>\n",
       "      <td>0.0</td>\n",
       "      <td>0.0</td>\n",
       "      <td>0.0</td>\n",
       "      <td>0.000</td>\n",
       "      <td>0.000</td>\n",
       "      <td>0.0</td>\n",
       "      <td>0.0</td>\n",
       "      <td>0.000000</td>\n",
       "    </tr>\n",
       "  </tbody>\n",
       "</table>\n",
       "</div>"
      ],
      "text/plain": [
       "      S   I0   M1   D1     I1     M2   D2   I2         E\n",
       "S   0.0  0.0  1.0  0.0  0.000  0.000  0.0  0.0  0.000000\n",
       "I0  0.0  0.0  0.0  0.0  0.000  0.000  0.0  0.0  0.000000\n",
       "M1  0.0  0.0  0.0  0.0  0.625  0.375  0.0  0.0  0.000000\n",
       "D1  0.0  0.0  0.0  0.0  0.000  0.000  0.0  0.0  0.000000\n",
       "I1  0.0  0.0  0.0  0.0  0.000  0.800  0.2  0.0  0.000000\n",
       "M2  0.0  0.0  0.0  0.0  0.000  0.000  0.0  0.0  1.142857\n",
       "D2  0.0  0.0  0.0  0.0  0.000  0.000  0.0  0.0  1.000000\n",
       "I2  0.0  0.0  0.0  0.0  0.000  0.000  0.0  0.0  0.000000\n",
       "E   0.0  0.0  0.0  0.0  0.000  0.000  0.0  0.0  0.000000"
      ]
     },
     "execution_count": 99,
     "metadata": {},
     "output_type": "execute_result"
    }
   ],
   "source": [
    " trans_p                         "
   ]
  },
  {
   "cell_type": "code",
   "execution_count": 77,
   "metadata": {},
   "outputs": [],
   "source": [
    "states = trans_p.columns.values\n",
    "obs = [\"A\", \"E\", \"F\", \"D\", \"F\", \"D\", \"C\"]"
   ]
  },
  {
   "cell_type": "code",
   "execution_count": 78,
   "metadata": {},
   "outputs": [
    {
     "data": {
      "text/plain": [
       "array(['S', 'I0', 'M1', 'D1', 'I1', 'M2', 'D2', 'I2', 'M3', 'D3', 'I3',\n",
       "       'M4', 'D4', 'I4', 'M5', 'D5', 'I5', 'M6', 'D6', 'I6', 'M7', 'D7',\n",
       "       'I7', 'M8', 'D8', 'I8', 'E'], dtype=object)"
      ]
     },
     "execution_count": 78,
     "metadata": {},
     "output_type": "execute_result"
    }
   ],
   "source": [
    "states"
   ]
  },
  {
   "cell_type": "code",
   "execution_count": 79,
   "metadata": {},
   "outputs": [
    {
     "data": {
      "text/plain": [
       "['A', 'E', 'F', 'D', 'F', 'D', 'C']"
      ]
     },
     "execution_count": 79,
     "metadata": {},
     "output_type": "execute_result"
    }
   ],
   "source": [
    "obs"
   ]
  },
  {
   "cell_type": "code",
   "execution_count": 80,
   "metadata": {},
   "outputs": [],
   "source": [
    "Sigma = ''.join(obs)"
   ]
  },
  {
   "cell_type": "code",
   "execution_count": 81,
   "metadata": {},
   "outputs": [],
   "source": [
    "emis = emit_p\n",
    "trans = trans_p"
   ]
  },
  {
   "cell_type": "code",
   "execution_count": 82,
   "metadata": {},
   "outputs": [],
   "source": [
    "transition = {}\n",
    "emission = {}\n",
    "\n",
    "for x in trans.index:\n",
    "    tr = {}\n",
    "    for y in trans.columns:\n",
    "        tr.update({y : trans.loc[x, y]})\n",
    "    transition.update({x : tr})    \n",
    "    \n",
    "for x in emis.index:\n",
    "    em = {}\n",
    "    for y in emis.columns:\n",
    "        em.update({y : emis.loc[x, y]})\n",
    "    emission.update({x : em}) "
   ]
  },
  {
   "cell_type": "code",
   "execution_count": 83,
   "metadata": {},
   "outputs": [],
   "source": [
    "def get_viterbi_algorithm(Sigma, states, transition, emission):\n",
    "    \n",
    "    n =  len(Sigma)\n",
    "    source_prop = 1/len(states)\n",
    "    back_track = {}\n",
    "    path = []\n",
    "    s = {}\n",
    "    \n",
    "    # Finding s_{k, source}\n",
    "    for k in states:\n",
    "        s.update({k : {0 : source_prop*emission[k][Sigma[0]]}})\n",
    "    # Finding s_{k, i}\n",
    "    for i in range(1, n):\n",
    "        sub_back_track = {}\n",
    "        \n",
    "        for k in states:    \n",
    "            prop = []\n",
    "            _emis = emission[k][Sigma[i]]\n",
    "            \n",
    "            for l in states:\n",
    "                prop.append(s[l][i-1]*transition[l][k]*_emis)\n",
    "               \n",
    "            s[k].update({i : max(prop)})\n",
    "            \n",
    "            sub_back_track.update({k : states[np.argmax(prop)]})\n",
    "        # Get back_tracking \n",
    "        back_track.update({i : sub_back_track})\n",
    "    \n",
    "    prop = []    \n",
    "    \n",
    "    # Get the last state.\n",
    "    for l in states:\n",
    "        prop.append(s[l][n-1])\n",
    "    state = states[np.argmax(prop)]\n",
    "    \n",
    "    # Find the path of states.\n",
    "    path.append(state)\n",
    "\n",
    "    for i in reversed(range(1, n)):\n",
    "        state = back_track[i][state] \n",
    "        path.append(state)\n",
    "        \n",
    "    return(''.join(reversed(path)))    "
   ]
  },
  {
   "cell_type": "code",
   "execution_count": 85,
   "metadata": {},
   "outputs": [
    {
     "data": {
      "text/plain": [
       "'M3M4M5I5M6M7M8'"
      ]
     },
     "execution_count": 85,
     "metadata": {},
     "output_type": "execute_result"
    }
   ],
   "source": [
    "get_viterbi_algorithm(Sigma, states, transition, emission)"
   ]
  },
  {
   "cell_type": "code",
   "execution_count": 86,
   "metadata": {},
   "outputs": [
    {
     "data": {
      "text/plain": [
       "array(['S', 'I0', 'M1', 'D1', 'I1', 'M2', 'D2', 'I2', 'M3', 'D3', 'I3',\n",
       "       'M4', 'D4', 'I4', 'M5', 'D5', 'I5', 'M6', 'D6', 'I6', 'M7', 'D7',\n",
       "       'I7', 'M8', 'D8', 'I8', 'E'], dtype=object)"
      ]
     },
     "execution_count": 86,
     "metadata": {},
     "output_type": "execute_result"
    }
   ],
   "source": [
    "states"
   ]
  },
  {
   "cell_type": "code",
   "execution_count": null,
   "metadata": {},
   "outputs": [],
   "source": []
  }
 ],
 "metadata": {
  "kernelspec": {
   "display_name": "Python 3",
   "language": "python",
   "name": "python3"
  },
  "language_info": {
   "codemirror_mode": {
    "name": "ipython",
    "version": 3
   },
   "file_extension": ".py",
   "mimetype": "text/x-python",
   "name": "python",
   "nbconvert_exporter": "python",
   "pygments_lexer": "ipython3",
   "version": "3.7.1"
  }
 },
 "nbformat": 4,
 "nbformat_minor": 2
}

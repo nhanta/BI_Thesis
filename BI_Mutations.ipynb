{
 "cells": [
  {
   "cell_type": "markdown",
   "metadata": {},
   "source": [
    "# Finding Mutations\n",
    "# Comparing Genes, Proteins, Genomes"
   ]
  },
  {
   "cell_type": "markdown",
   "metadata": {},
   "source": [
    "Code and translation: Nhan TV"
   ]
  },
  {
   "cell_type": "markdown",
   "metadata": {},
   "source": [
    "Bibliography: Compeau, Phillip. <i>Bioinformatics Algorithms: An Active Learning Approach by Phillip Compeau, Pavel Pevzner (2014) Paperback.</i> La Jolla, CA: Active Learning Publishers, 2014."
   ]
  },
  {
   "cell_type": "markdown",
   "metadata": {},
   "source": [
    "## 1. Comparing Biological Sequences"
   ]
  },
  {
   "cell_type": "markdown",
   "metadata": {},
   "source": [
    "### 1.1. Bẻ khóa mã phi ribosome"
   ]
  },
  {
   "cell_type": "markdown",
   "metadata": {},
   "source": [
    "#### 1.1.1. Ribosome là gì?"
   ]
  },
  {
   "cell_type": "markdown",
   "metadata": {},
   "source": [
    "<b> Ribosome</b> được định nghĩa tại <a href = \"https://vi.wikipedia.org/wiki/Ribosome\">wikipedia</a> là \"bào quan tổng hợp chuỗi polipeptide dựa trên khuôn mã của ARN thông tin. Đây là một bộ máy phân tử lớn, phức tạp, có mặt trong tất cả các tế bào sống, nơi xảy ra quá trình sinh tổng hợp protein. Ribosome liên kết các amino acid với nhau theo trật tự được quy định bởi phân tử (mRNA). Ribosome bao gồm hai tiểu đơn vị chính - tiểu đơn vị ribosome nhỏ đọc mRNA, trong khi tiểu đơn vị lớn liên kết các axit amin để tạo thành một chuỗi polypeptide. Mỗi tiểu đơn vị gồm một hoặc nhiều phân tử RNA ribosome (rRNA) và nhiều phân tử protein.\n",
    "\n",
    "Thuật ngữ \"ribosome\" có nguồn gốc \"ribonucleic acid\" (thành phần chính của bào quan) và tiếng Hy Lạp \"soma\" có nghĩa là \"thể\".\n",
    "\n",
    "Trình tự của DNA mã hóa cho một protein có thể được sao chép nhiều lần vào chuỗi RNA thông tin (mRNA) với một trình tự tương tự. Ribosome có thể liên kết với một chuỗi mRNA và sử dụng nó như một khuôn mẫu để xác định chính xác trình tự của các axit amin trong một protein. Axit amin được lựa chọn, thu thập và mang đến ribosome bởi RNA vận chuyển (phân tử tRNA), nhập vào một phần của ribosome và liên kết với chuỗi mRNA. Các axit amin sau đó sẽ được liên kết với nhau bởi một phần khác của ribosome. Sau khi protein được sản sinh, nó có thể gấp xoắn lại để tạo nên ra một cấu trúc không gian 3 chiều có chức năng chuyển hóa.\""
   ]
  },
  {
   "cell_type": "markdown",
   "metadata": {},
   "source": [
    "#### 1.1.2. Quá trình giải mã thông điệp ẩn trong DNA"
   ]
  },
  {
   "cell_type": "markdown",
   "metadata": {},
   "source": [
    "Watson và Cricks đã tìm ra cấu trúc chuỗi xoắn kép của DNA vào năm 1953. Sau đó nhà vật lý Geogre Gamow đã sáng lập ra \"RNA Tie Club\" cho các nhà khoa học với mong muốn giải mã <b>được thông điệp ẩn</b> trong DNA với việc xác định <b> cách mà RNA chuyển thành các amino acids như thế nào</b>. Một năm sau, Sydney Brenner và Francis Crick đã khám phá ra rằng các <b>amino acids được dịch mã từ các codons, tức là từ bộ 3 nucleotide</b>. Cho dù RNA Tie Club có 8 người đoạt giải Nobel nhưng tất cả đều không giúp họ thành công trong việc giải mã gen."
   ]
  },
  {
   "cell_type": "markdown",
   "metadata": {},
   "source": [
    "Vào năm 1961, Marshall Nirenburg đã tổng hợp được các chuỗi RNA chỉ bao gồm uracil (...UUUUUUUUUU...) thêm ribosom và các amino acid tạo ra một peptide chỉ gồm Phenylalamin (...PhePhePhePhe...). Do đó, Nirenburg đã kết luận rằng mã UUU của RNA mã hóa cho amino acid Phenylalamin. Sau thành công của Nirenburg, Har Gobind Khorana đã tổng hợp được chuỗi RNA ...UCU<b>CUC</b>UCU<b>CUC</b>... và chứng minh rằng nó chuyển thành ...SerLeuSerLeu...và phần còn lại của mã gen ribosome đã nhanh chóng được làm sáng tỏ."
   ]
  },
  {
   "cell_type": "markdown",
   "metadata": {},
   "source": [
    "#### 1.1.3. Bẻ khóa mã phi ribosome"
   ]
  },
  {
   "cell_type": "markdown",
   "metadata": {},
   "source": [
    "Gần bốn thập kỷ sau, Mohamed Marahiel bắt đầu giải quyết câu đố khó khăn hơn nhiều về việc bẻ khóa mã phi ribosome. Một ví dụ về phi ribosome đó là vi khuẩn và nấm sản xuất kháng sinh và các peptide phi ribosome khác (non-ribosomal-peptide viết tắt là <b>NRP</b>) không phụ thuộc vào ribosome và mã gen. Thay vào đó, những sinh vật này tạo ra NRP bằng cách sử dụng một loại protein khổng lồ có tên NRP synthetase."
   ]
  },
  {
   "cell_type": "markdown",
   "metadata": {},
   "source": [
    "### DNA --> RNA --> NRP Synthetase --> NRP"
   ]
  },
  {
   "cell_type": "markdown",
   "metadata": {},
   "source": [
    "NRP synthetase mã hóa 10 loại kháng sinh gồm chuỗi dài các amino acid Tyrocidine B1 bao gồm 10 phân đoạn được gọi là miền adenylation (A-domain); mỗi miền A dài khoảng 500 amino acid và chịu trách nhiệm thêm một amino acid đơn vào Tyrocidine B1."
   ]
  },
  {
   "cell_type": "markdown",
   "metadata": {},
   "source": [
    "Thế hệ trước đó, RNA Tie Club đã đưa ra câu hỏi, \"RNA mã hóa một amino acid như thế nào?\" Bây giờ Marahiel đã đưa ra câu trả lời cho câu hỏi khó khăn hơn nhiều, \"Mỗi miền A (A-domain) mã hóa một amino acid như thế nào?\""
   ]
  },
  {
   "cell_type": "markdown",
   "metadata": {},
   "source": [
    "#### 1.1.4. Từ sự so sánh protein đến mã phi ribosome"
   ]
  },
  {
   "cell_type": "markdown",
   "metadata": {},
   "source": [
    "Protein được định nghĩa tại <a href = \"https://vi.wikipedia.org/wiki/Protein\"> wikipedia</a> là: \"những phân tử sinh học, hay đại phân tử, gồm nhiều amino acid. Protein thực hiện rất nhiều chức năng bên trong sinh vật, bao gồm các phản ứng <b>trao đổi chất xúc tác, sao chép DNA, đáp ứng lại kích thích, và vận chuyển phân tử từ một vị trí đến vị trí khác</b>. Các protein khác nhau chủ yếu ở trình tự của các axit amin trong cấu tạo của chúng, mà trình tự này bị chi phối bởi trình tự nucleotide của các gen quy định tương ứng, và ở kết quả của giai đoạn cuộn gập protein (protein folding) thành những cấu trúc 3 chiều xác định lên chức năng của nó.\""
   ]
  },
  {
   "cell_type": "markdown",
   "metadata": {},
   "source": [
    "May mắn rằng Marahiel đã biết đến trình tự amino acid của một vài miền A, cùng với các amino acid mà chúng thêm vào peptide đang phát triển. Dưới đây là ba trong số các miền A (được lấy từ ba vi khuẩn khác nhau) mã hóa tương ứng cho acid aspartic (Asp), ornithine (Orn), và valine (Val). "
   ]
  },
  {
   "cell_type": "markdown",
   "metadata": {},
   "source": [
    "<a><img src=\"https://imgur.com/t7QIwYw.jpg\" width=\"800\" align=\"center\">"
   ]
  },
  {
   "cell_type": "markdown",
   "metadata": {},
   "source": [
    "Marahiel phỏng đoán rằng vì các miền A có cùng chức năng (ví dụ, chức năng thêm một amino acid vào peptide đang phát triển), các miền A khác nhau có thể có những phần giống nhau. Các miền A cũng cần có những phần khác nhau để kết hợp các amino acid khác nhau. Tuy nhiên, chỉ có ba cột được bảo tồn (hiển thị màu đỏ bên dưới) là chung cho ba chuỗi và có khả năng phát sinh chỉ do sự tình cờ:"
   ]
  },
  {
   "cell_type": "markdown",
   "metadata": {},
   "source": [
    "<a><img src=\"https://imgur.com/3tFqLT5.jpg\" width=\"800\" align=\"center\"> "
   ]
  },
  {
   "cell_type": "markdown",
   "metadata": {},
   "source": [
    "Nếu chúng ta trượt chuỗi thứ hai chỉ một amino acid sang bên phải, thêm vào một dấu cách \"-\" vào đầu chuỗi, thì chúng ta tìm ra 11 cột được bảo tồn."
   ]
  },
  {
   "cell_type": "markdown",
   "metadata": {},
   "source": [
    "<a><img src = \"https://imgur.com/sukDIaW.jpg\" width = \"800\" align = \"center\">"
   ]
  },
  {
   "cell_type": "markdown",
   "metadata": {},
   "source": [
    "và thậm chí khi trượt nhiều hơn chúng ta còn phát hiện ra 19 cột được bảo tồn:"
   ]
  },
  {
   "cell_type": "markdown",
   "metadata": {},
   "source": [
    "<a><img src=\"https://imgur.com/9T8gudV.jpg\" width=\"800\" align=\"center\"> "
   ]
  },
  {
   "cell_type": "markdown",
   "metadata": {},
   "source": [
    "Điều này chỉ ra rằng các cột màu đỏ đại diện cho lõi được bảo tồn chia sẻ bởi nhiều miền A. Bây giờ Marahiel đã biết các để sắp xếp chính xác các miền A, ông đưa ra giả thuyết rằng một số cột biến còn lại sẽ mã hóa cho Asp, Orn, và Val. Ông đã khám phá ra mã phi ribosome được xác định bởi 8 ký tự phi ribosome amino acid được hiển thị ở các cột màu tím dưới đây."
   ]
  },
  {
   "cell_type": "markdown",
   "metadata": {},
   "source": [
    "<a><img src=\"https://imgur.com/spzqoNW.jpg\" width=\"800\" align=\"center\"> "
   ]
  },
  {
   "cell_type": "markdown",
   "metadata": {},
   "source": [
    "Các cột màu tím xác định các ký hiệu  <b><span style = \"color: purple\">LTKVGHIG, VGEIGSID, AWMFAAVL</span></b> tương ứng mã hóa cho Asp, Orn, và Val."
   ]
  },
  {
   "cell_type": "markdown",
   "metadata": {},
   "source": [
    "Vào năm 1999, Marahiel đã tìm ra mã phi ribosome cho chỉ 14 trong số 20 amino acid tạo protein (Ala, Asn, Asp, Cys, Gln, Glu, Ile, Leu, Phe, Pro, Ser, Thr, Tyr, Val) vì ông thiếu trình tự của các miền A của 6 amino acid còn lại. Với sự sẵn có của nhiều hơn các miền A, giờ đây chúng ta có cơ hội để điền vào những khoảng trống trong bài báo gốc của Marahiel.  "
   ]
  },
  {
   "cell_type": "markdown",
   "metadata": {},
   "source": [
    "#### 1.1.5 Oncogene và các yếu tố tăng trưởng có điểm gì chung?"
   ]
  },
  {
   "cell_type": "markdown",
   "metadata": {},
   "source": [
    "Sự bẻ khóa của Marahiel cho mã phi ribosome là một trong nhiều bài toán sinh học được hưởng lợi từ sự so sánh trình tự. Một ví dụ nổi bật khác về sức mạnh của so sánh trình tự được thấy vào năm 1983 khi Russell Doolittle đã so sánh <b>các yếu tố gen tăng trưởng có nguồn gốc tiểu cầu mới được giải trình tự (platelet derived growth factor viết tắt là PDGF)</b> với tất cả các gen khác được biết vào thời điểm đó."
   ]
  },
  {
   "cell_type": "markdown",
   "metadata": {},
   "source": [
    "Doolite đã gây choáng váng cho các nhà sinh học ung thư khi ông chỉ ra rằng PDGF rất giống với trình tự của một gen đã biết là <b>v-sis</b>. Sự giống nhau giữa hai gen là khó hiểu vì chức năng của chúng khác nhau rất nhiều; gen PDGF mã hóa protein tăng trưởng tế bào trong khi v-sis là <b>gen gây ung thư (oncogene)</b>, hoặc một gen trong virus gây ra sự biến đổi giống ung thư của các tế bào người bị nhiễm bệnh. Sau phát hiện của Doolittle, các nhà khoa học đã giả thiết rằng một vài dạng của ung thư có thể được gây ra bởi một gen tốt thực hiện chức năng của nó tại những thời điểm sai. Liên kết giữa PDGF và v-sis đã thiết lập một thế giới quan mới; việc tìm kiếm tất cả các trình tự mới dựa trên cơ sở dữ liệu trình tự là đơn đặt hàng đầu tiên của các doanh nghiệp trong lĩnh vực gen."
   ]
  },
  {
   "cell_type": "markdown",
   "metadata": {},
   "source": [
    "Tuy nhiên, câu hỏi vẫn còn là: cách tốt nhất để so sánh trình tự theo thuật toán là gì? Quay trở lại ví dụ về miền A (được giới thiệu lại bên dưới), việc chèn các khoảng trống để phát hiện lõi được bảo tồn có thể trông giống như một trò ảo thuật đối với bạn. Hoàn toàn không rõ thuật toán nào chúng ta đã sử dụng để quyết định vị trí chèn các ký tự cách hoặc làm thế nào chúng ta có thể định lượng sự liên kết, sự sắp xếp tốt nhất của 3 chuỗi."
   ]
  },
  {
   "cell_type": "markdown",
   "metadata": {},
   "source": [
    "<a><img src=\"https://imgur.com/spzqoNW.jpg\" width=\"800\" align=\"center\"> "
   ]
  },
  {
   "cell_type": "markdown",
   "metadata": {},
   "source": [
    "### 1.2 Sequence alignment và the longest common subsequence (LCS)"
   ]
  },
  {
   "cell_type": "markdown",
   "metadata": {},
   "source": [
    "Bây giờ chúng ta xác định sự gióng hàng của chuỗi v và w như một ma trận hai hàng sao cho hàng đầu tiên chứa các ký hiệu của v (theo thứ tự), hàng thứ hai chứa các ký hiệu của w (theo thứ tự) và ký hiệu cách (được gọi là các kí hiệu trống và được hiển thị dưới dạng dấu gạch ngang bên dưới) có thể được xen kẽ trong cả hai chuỗi, miễn là hai kí hiệu trống không thẳng hàng với nhau. Dưới đây là sự gióng hàng của ATGTTATA và ATCGTCC."
   ]
  },
  {
   "cell_type": "markdown",
   "metadata": {},
   "source": [
    "<a><img src=\"https://imgur.com/YHuOBdS.jpg\" width=\"170\" align=\"center\"> "
   ]
  },
  {
   "cell_type": "markdown",
   "metadata": {},
   "source": [
    "Gióng hàng (Alignment) trình bày một kịch bản mà v có thể phát triển thành w. Các cột chứa cùng một chữ cái trong cả hai hàng được gọi là <b>match</b> và đại diện cho các nucleotide được bảo tồn, trong khi các cột chứa các chữ cái khác nhau được gọi là <b>mismatch</b> và đại diện cho sự thay thế một nucleotide. Các cột chứa ký hiệu trống được gọi là indels: một cột chứa ký hiệu trống ở hàng trên cùng của căn chỉnh được gọi là <b>insertion</b>, vì nó ngụ ý chèn ký hiệu khi chuyển v thành w; một cột chứa ký hiệu khoảng trắng ở hàng dưới cùng của căn chỉnh được gọi là <b>deletion</b>, vì nó chỉ ra việc xóa ký hiệu khi chuyển v thành w. Căn chỉnh ở trên có bốn match, hai mismatch, một insertion và hai deletion."
   ]
  },
  {
   "cell_type": "markdown",
   "metadata": {},
   "source": [
    "Các match trong alignment của hai chuỗi xác định một chuỗi con chung của hai chuỗi hoặc một chuỗi các ký hiệu xuất hiện theo cùng một thứ tự (mặc dù không nhất thiết phải liên tiếp) trong cả hai chuỗi. Ví dụ, alignment ở trên chỉ ra rằng ATGT là một chuỗi con chung của ATGTTATA và ATCGTCC. Do đó, việc gióng hàng hai chuỗi tối đa hóa số lượng các kết quả match tương ứng với một chuỗi con chung dài nhất (LCS) của các chuỗi này. Lưu ý rằng hai chuỗi có thể có nhiều hơn một chuỗi con dài nhất."
   ]
  },
  {
   "cell_type": "markdown",
   "metadata": {},
   "source": [
    "#### 1.2.1 Dynamic programming for the change problem"
   ]
  },
  {
   "cell_type": "markdown",
   "metadata": {},
   "source": [
    "Giả sử bạn cần đổi 76 denarii lấy một số lượng nhỏ nhất các xu (coin), và bạn chỉ có ba mệnh giá: coins = (5, 4, 1). Một bộ tiền xu (collection) có số lượng coin nhỏ nhất có giá trị 76 denarii phải là một trong những trường hợp sau:\n",
    "<li>Một bộ tiền xu có số lượng coin nhỏ nhất với tổng giá trị 75 denarii, cộng với một coin 1 denarius;\n",
    "<li>Một bộ tiền xu có số lượng coin nhỏ nhất với tổng giá trị 72 denarii, cộng với một coin 4 denarius;\n",
    "<li>Một bộ tiền xu có số lượng coin nhỏ nhất với tổng giá trị 71 denarii, cộng với một coin 5 denarius;"
   ]
  },
  {
   "cell_type": "markdown",
   "metadata": {},
   "source": [
    "Với các mệnh giá $coins$ = ($coin_1$, ..., $coin_d$), min_num_coins (money) là số lượng coin nhỏ nhất, ta có:<br>\n",
    "min_num_coins (money) = min (min_num_coins (money-$coin_i$)) + 1, với i = 1, ..., n.<br>\n",
    "Chúng ta sẽ sử dụng thuật toán đệ quy với mỗi tổng số tiền tăng dần từ 0 đến money, độ phức tạp của thuật toán là $\\mathcal{O}(money.|coins|)$. "
   ]
  },
  {
   "cell_type": "code",
   "execution_count": 174,
   "metadata": {},
   "outputs": [],
   "source": [
    "import numpy as np\n",
    "import pandas as pd\n",
    "from math import inf"
   ]
  },
  {
   "cell_type": "code",
   "execution_count": 176,
   "metadata": {},
   "outputs": [],
   "source": [
    "\"\"\" Dynamic programming for the change problem \"\"\"\n",
    "def get_dp_change(money, coins):\n",
    "    # Set start minimum number coins to an array of 0\n",
    "    min_num_coins = np.zeros((money + 1))\n",
    "    # m is an interger counted from 1 to amount of money\n",
    "    for m in range(1, money + 1):\n",
    "        # Assign MinNumCoins(m) with infinity\n",
    "        min_num_coins[m] = inf\n",
    "        \"\"\" Choose the minimum number of coins from the case \"\"\"\n",
    "        for i in range(len(coins)):\n",
    "            if m >= coins[i]:\n",
    "                if min_num_coins[m - coins[i]] + 1 < min_num_coins[m]:\n",
    "                    min_num_coins[m] = min_num_coins[m - coins[i]] + 1\n",
    "    return min_num_coins[money]            "
   ]
  },
  {
   "cell_type": "code",
   "execution_count": 177,
   "metadata": {},
   "outputs": [
    {
     "data": {
      "text/plain": [
       "794.0"
      ]
     },
     "execution_count": 177,
     "metadata": {},
     "output_type": "execute_result"
    }
   ],
   "source": [
    "coins = [24,13,5,3,1]\n",
    "get_dp_change(19037, coins)"
   ]
  },
  {
   "cell_type": "markdown",
   "metadata": {},
   "source": [
    "#### 1.2.2 The Manhattan tourist problem"
   ]
  },
  {
   "cell_type": "markdown",
   "metadata": {},
   "source": [
    "Hãy tưởng tượng bạn là một khách du lịch ở Midtown Manhattan và bạn muốn nhìn thấy nhiều danh lam thắng cảnh nhất có thể trên đường từ góc đường 59 và Đại lộ số 8 đến góc của Đường 42 và Đại lộ 3 (hình dưới). Tuy nhiên, bạn có thời gian ngắn và tại mỗi ngã tư, bạn chỉ có thể di chuyển về phía nam (↓) hoặc phía đông (→). Bạn có thể chọn từ nhiều con đường khác nhau thông qua bản đồ, nhưng không có con đường nào sẽ ghé thăm tất cả các điểm tham quan. Thử thách tìm đường đi qua thành phố đến thăm nhiều điểm tham quan nhất được gọi là Bài toán du lịch Manhattan."
   ]
  },
  {
   "cell_type": "markdown",
   "metadata": {},
   "source": [
    "<a><img src=\"https://imgur.com/O25nsR7.jpg\" width=\"500\" align=\"center\"> "
   ]
  },
  {
   "cell_type": "markdown",
   "metadata": {},
   "source": [
    "Bản đồ Manhattan được biểu diễn dưới dạng đồ thị có hướng (Manhattan Graph), trong đó chúng ta mô hình mỗi giao lộ là một nút và biểu thị mỗi tòa nhà trong thành phố giữa hai giao lộ là một cạnh có hướng cho biết hướng di chuyển hợp pháp (↓ hoặc →), như được hiển thị bên dưới. Sau đó, chúng ta gán cho mỗi cạnh được định hướng một trọng số bằng với số lượng điểm tham quan dọc theo khối tương ứng. Nút bắt đầu (màu xanh) được gọi là source và nút kết thúc (màu đỏ) được gọi là sink. Việc gán các trọng số dọc theo một đường dẫn từ source tới sink sẽ mang lại số lượng điểm tham quan dọc theo đường dẫn đó; do đó, để giải quyết vấn đề du lịch Manhattan, chúng ta cần tìm một đường dẫn có trọng số tối đa nối source với sink (còn gọi là đường dài nhất) trong ManhattanGraph."
   ]
  },
  {
   "cell_type": "markdown",
   "metadata": {},
   "source": [
    "<a><img src=\"https://imgur.com/N2T3ZqM.jpg\" width=\"500\" align=\"center\"> "
   ]
  },
  {
   "cell_type": "markdown",
   "metadata": {},
   "source": [
    "Nút source màu xanh được gán tọa độ (0, 0) và nút sink màu đỏ được gán tọa độ (n, m). Thuật toán sau đây tính toán độ dài của đường dẫn dài nhất đến nút (i, j) trong lưới hình chữ nhật và dựa trên quan sát rằng cách duy nhất để tiếp cận nút (i, j) trong Bài toán du lịch Manhattan là di chuyển về phía nam (↓) từ (i - 1, j) hoặc đông (→) từ (i, j - 1)."
   ]
  },
  {
   "cell_type": "markdown",
   "metadata": {},
   "source": [
    "<a><img src=\"https://imgur.com/VRfUvfj.jpg\" width=\"500\" align=\"center\"> "
   ]
  },
  {
   "cell_type": "code",
   "execution_count": 16,
   "metadata": {},
   "outputs": [],
   "source": [
    "\"\"\"This code can not run, it is only shown how to do\"\"\"\n",
    "def get_south_or_east(i, j):\n",
    "    if i == 0 and j == 0:\n",
    "        return(0)\n",
    "    x = 4e11\n",
    "    y = 4e11\n",
    "    if i > 0:\n",
    "        x = get_south_or_east(i-1, j) + vertical_weight(i, j)\n",
    "    if j > 0:\n",
    "        y = south_or_east(i, j-1) + horizontal_weight(i, j)\n",
    "    return(max(x, y))"
   ]
  },
  {
   "cell_type": "markdown",
   "metadata": {},
   "source": [
    "<b>Giống như thuật toán lập trình động trong bài toán đổi tiền</b>, chúng ta có thuật toán tìm độ dài của một đường dài nhất trong Bài toán du lịch Manhattan. Trong code sau, $down_{i, j}$ và $right_{i, j}$ là các trọng số tương ứng của các cạnh dọc và ngang vào nút (i, j), các ma trận đối số đầu vào lần lượt là down và right."
   ]
  },
  {
   "cell_type": "code",
   "execution_count": 17,
   "metadata": {},
   "outputs": [],
   "source": [
    "\"\"\" Find the longest path in the Manhattan graph\n",
    "Each path is weighted, and is shown in matrices: Down and Right\"\"\"\n",
    "def get_manhattan_tourist(n, m, down, right):\n",
    "    s = np.zeros((n+1, m+1))\n",
    "    # Find values of S at the first column\n",
    "    for i in range(1, n+1):\n",
    "        s[i, 0] = s[i-1, 0] + down[i-1, 0]\n",
    "    # Find values of S at the first row\n",
    "    for j in range(1, m+1):\n",
    "        s[0, j] = s[0, j-1] + right[0, j-1]\n",
    "    # Find the maximum of S\n",
    "    for i in range(1, n+1):\n",
    "        for j in range(1, m+1):\n",
    "            s[i, j] = max(s[i-1, j] + down[i-1, j], s[i, j-1] + right[i, j-1])\n",
    "    return(s[n, m])"
   ]
  },
  {
   "cell_type": "markdown",
   "metadata": {},
   "source": [
    "Nhập ma trận đối số đầu vào của đồ thị bên trên."
   ]
  },
  {
   "cell_type": "code",
   "execution_count": 20,
   "metadata": {},
   "outputs": [],
   "source": [
    "down = np.array([[1, 0, 2, 4, 3],\n",
    "                [4, 6, 5, 2, 1],\n",
    "                [4, 4, 5, 2, 1],\n",
    "                [5, 6, 8, 5, 3]])\n",
    "right = np.array([[3, 2, 4, 0],\n",
    "                 [3, 2, 4, 2],\n",
    "                 [0, 7, 3, 4],\n",
    "                 [3, 3, 0, 2],\n",
    "                 [1, 3, 2, 2]])"
   ]
  },
  {
   "cell_type": "code",
   "execution_count": 21,
   "metadata": {},
   "outputs": [
    {
     "data": {
      "text/plain": [
       "17.0"
      ]
     },
     "execution_count": 21,
     "metadata": {},
     "output_type": "execute_result"
    }
   ],
   "source": [
    "get_manhattan_tourist(2, 2, down, right)"
   ]
  },
  {
   "cell_type": "markdown",
   "metadata": {},
   "source": [
    "#### 1.2.3 Dynamic programming in an arbitrary DAG"
   ]
  },
  {
   "cell_type": "markdown",
   "metadata": {},
   "source": [
    "Cho một nút b trong DAG, đặt $s_b$ biểu thị độ dài của đường dài nhất từ source đến b. Chúng ta gọi nút a là nút trước của nút b nếu có cạnh nối từ a đến b trong DAG; indegree của một nút bằng số lượng của các nút trước. Score $s_b$ của nút b với indegree k được tính là giá trị lớn nhất của k giá trị:\n",
    "$$ s_b = max_{all\\, a \\,of\\, b}(s_a + weight\\, of \\, edge\\,from\\,a\\,to\\,b)$$"
   ]
  },
  {
   "cell_type": "markdown",
   "metadata": {},
   "source": [
    "Một đối số tương tự có thể được áp dụng cho biểu đồ gióng hàng(bên dưới) để tính độ dài của LCS giữa các chuỗi v và w. Vì trong trường hợp này, tất cả các cạnh đều có trọng số 0 ngoại trừ các cạnh chéo có trọng số 1 đại diện cho match ($v_i = w_j$), chúng ta nhận được thuật toán đệ quy sau đây để tính độ dài của LCS."
   ]
  },
  {
   "cell_type": "markdown",
   "metadata": {},
   "source": [
    "<a><img src=\"https://imgur.com/GT0NJzS.jpg\" width=\"500\" align=\"center\">     "
   ]
  },
  {
   "cell_type": "markdown",
   "metadata": {},
   "source": [
    "<a><img src=\"https://imgur.com/7QVSBua.jpg\" width=\"500\" align=\"center\">     "
   ]
  },
  {
   "cell_type": "markdown",
   "metadata": {},
   "source": [
    "Chúng ta có thể sử dụng thuật toán quay lui (backtracking) để xây dựng LCS của chuỗi v và w. Chúng ta biết rằng nếu chúng ta gán trọng số 1 cho các cạnh trong AlignGraph (v, w) tương ứng với các kết quả match và gán trọng số 0 cho tất cả các cạnh khác, thì $s_{|v|, |w|}$ biểu diễn chiều dài của LCS. Thuật toán sau chứa một bản ghi trong đó các cạnh được sử dụng để tính toán từng giá trị $s_{i,j}$ bằng cách sử dụng các con trỏ quay lui, mà nhận một trong ba giá trị ↓, → hoặc ↘. Con trỏ quay lui được lưu trữ trong một ma trận quay lui (backtrack)."
   ]
  },
  {
   "cell_type": "code",
   "execution_count": 302,
   "metadata": {},
   "outputs": [],
   "source": [
    "\"\"\"Longest Common Subsequence (LCS) Backtracking in the Alignment Graph\"\"\"\n",
    "def build_lcs_back_track(v, w):\n",
    "    back_track = np.array([[\"\" for j in range(len(w)+1)] for i in range(len(v)+1)])\n",
    "    s = np.zeros((len(v) + 1, len(w) + 1))\n",
    "        \n",
    "    for i in range(1, len(v) + 1):\n",
    "        for j in range(1, len(w) + 1):\n",
    "            match = 0\n",
    "            if v[i-1] == w[j-1]:\n",
    "                match = 1\n",
    "            s[i, j] = max(s[i-1, j], s[i, j-1], s[i-1, j-1] + match)\n",
    "            if s[i, j] == s[i, j-1]:\n",
    "                back_track[i, j] = \"→\"\n",
    "            elif s[i, j] == s[i-1, j]:\n",
    "                back_track[i, j] = \"↓\"\n",
    "            elif s[i, j] == s[i-1, j-1] + match:\n",
    "                back_track[i, j] = \"↘\"\n",
    "    return(back_track)"
   ]
  },
  {
   "cell_type": "markdown",
   "metadata": {},
   "source": [
    "Nhập hai chuỗi đầu vào v và w."
   ]
  },
  {
   "cell_type": "code",
   "execution_count": 329,
   "metadata": {},
   "outputs": [],
   "source": [
    "v = \"GTGTGAGGTTACAGCTCGAAAGCTAGCTTTCCCTGCTGCGTAGGGCCCCTCAAAAAAAGGATCCGGGCTCATTAGGCATTTAACGGTATTGGAAATCCGATCAGAGTCGTTACGTGCAGGATAGTAATCACATGTCACGATTACGGAATAGTCGACTGCAATCGGATGGACAATCTCTTCATACTCAAATACGAGGATTTGGCGCATCCCAGGGGGACCAGCTGCGTCCGCCTCCAAACGTCAAAAAGGGCGGACTTAAGAGTTACGTGGACAGCAACGCCATTGATGATAGAGGGCATTATAATGAACCCCAGAGCTATGCGCGCAGCGCTGACTTATGAAGTCGTTCTATTTCTACGCTCGCACAACGATGACCCACCAAGGTGCGAAGGGCTGGGCGTGACAGTTGGGGAAGCCACTTGCATATCCAGTATCATCAGTTACGGCTCAGATTCACCTTCCTTTCACCTAGGGGGTGCGCCACCGACATGCATAGCGGAGAATCTCCACAGCATATTACCTATCAATTCTGCTTCGAGCATGCACTGTAGCTGGCCGGGATACGAATGGGTTCGGAGAAAACAGCCCACAGTTACATCGTGGTCAGGTGAACGGCGTAGTGTACTGGCCCGTAATCCCTGCGCTCGACGTGGCGGGAGCCAGACCACTGGACACTTTTTCAGGCCCTAGCTAGCGGAACTAGGCTAGTTCGATGACAGAAGAACGCTAGGAAGAATGCGTGATATTAGAAAGCTACATAGGCCCCCATCCCTGCAAAGTTGAACAGAGCGCTATATCGGGCGGCTCGGCTACAGGGTCCTTTTGGATTAAGATTGGGCATGGCTCGATTTGTTCGCAATTCACCTGTACCTGGTACACCGGGCATTACTTAATTACCCTGGAAGAGTAA\"\n",
    "w = \"CACGAATGAATGGATGCCGCCGCTGGGTAAGACTGGCCTGGGGTGTGAGCAATTCTACGCTGCCAGGGACCGCGCTCTAAGCCACAATATAACATCGGTGCCACATAGATGACCTCAGCGCAACGTCCAATTGGATACAGTGACCCAGTTAGTAGGTCAAGTTGTTAATCTCCACTCCAGACCTGTGGACTTGTGACGCAAGGATCACATGGCACAGGTCGGAAGGCGGCGAAAAAACTACTCTCGTGGCACACGTATCCGATAACGTCAAACTATAGAGGTCGGTCCCATTCCGGTCCTTGGATGGCTATCCGAGATCATCAATACGGGCGAGGAGTGCAGCCATTTTCGGGCGTTAAATTATCTAGTCCTAGGACTCGTTACACCCCAGAACCTCTTGGTGACATGTGTTTTTGCTACTACCAGGGAGGCGCTCCAGAATCCTGTCATAATTGGCGATTCCTGTGGCGCGAGAGCTTCAGTCGACCGGGACAAGCCCTTTGATTCTTGCCATTGCCCTAGCCGCAAACCGATAGACCCATTATAGTCCCTTTGCTGTAGAAAAACCACCACAATGTTCCACGGGTTCAAGATAAAAGCGTTTTTCGTTCCATTAGGTTAAAGTCCGTGGTACTTACACCTGTATGAATACCTGACAATAACTGACTGATCTTCACCTCAGGCTACCCTGTCAGAGTCAATACCGCCACCATCGGCACACCGACGGCTACCACGGATCTCAAACAATCTGGGGGGTTGTTCCGCTAGGTTTGAATCCCAGTAAACGACAACGAATGGACGCCCGCAAAAGTCGAGTCTTAGGCTGGGGAATACGGATG\""
   ]
  },
  {
   "cell_type": "code",
   "execution_count": 330,
   "metadata": {},
   "outputs": [
    {
     "data": {
      "text/plain": [
       "array([['', '', '', ..., '', '', ''],\n",
       "       ['', '→', '→', ..., '→', '→', '→'],\n",
       "       ['', '→', '→', ..., '→', '→', '→'],\n",
       "       ...,\n",
       "       ['', '↓', '↓', ..., '→', '↘', '→'],\n",
       "       ['', '↓', '↓', ..., '↘', '→', '→'],\n",
       "       ['', '↓', '↓', ..., '↓', '→', '→']], dtype='<U1')"
      ]
     },
     "execution_count": 330,
     "metadata": {},
     "output_type": "execute_result"
    }
   ],
   "source": [
    "back_track = build_lcs_back_track(v, w)\n",
    "back_track"
   ]
  },
  {
   "cell_type": "code",
   "execution_count": 278,
   "metadata": {},
   "outputs": [
    {
     "data": {
      "text/plain": [
       "(911, 840)"
      ]
     },
     "execution_count": 278,
     "metadata": {},
     "output_type": "execute_result"
    }
   ],
   "source": [
    "back_track.shape"
   ]
  },
  {
   "cell_type": "markdown",
   "metadata": {},
   "source": [
    "Bây giờ chúng ta cần tìm một đường từ source tới sink được hình thành bởi các cạnh. Thuật toán sau giải quyết bài toán tìm chuỗi con chung dài nhất (LCS) bằng cách sử dụng thông tin trong Backtrack. output_lcs (back_track, v, i, j) sẽ đưa ra một LCS giữa các chuỗi con của v và w có thứ tự hậu tố tương ứng là i và j. "
   ]
  },
  {
   "cell_type": "code",
   "execution_count": 335,
   "metadata": {},
   "outputs": [],
   "source": [
    "\"\"\"Find a path from the source to the sink\"\"\"\n",
    "def output_lcs(back_track, v, w, i, j):\n",
    "    lcs = []\n",
    "    if i == 0 or j == 0:\n",
    "        return (\"\")\n",
    "    # Output v, w after alignment to only check\n",
    "    v_ali = [] \n",
    "    w_ali = []\n",
    "    while i > 0 and j > 0:\n",
    "        if back_track[i, j] == \"↘\":\n",
    "            v_ali.append(v[i-1])\n",
    "            w_ali.append(w[j-1])\n",
    "            if v[i-1] == w[j-1]:\n",
    "                lcs.append(v[i-1])\n",
    "\n",
    "            i = i - 1\n",
    "            j = j - 1\n",
    "        elif back_track[i, j] == \"↓\":\n",
    "            v_ali.append(v[i-1])\n",
    "            w_ali.append('-')\n",
    "            i = i - 1\n",
    "        elif back_track[i, j] == \"→\":\n",
    "            v_ali.append('-')\n",
    "            w_ali.append(w[j-1])\n",
    "            j = j - 1\n",
    "    return(\"\".join(reversed(lcs)), \"\".join(reversed(v_ali)), \"\".join(reversed(w_ali)))"
   ]
  },
  {
   "cell_type": "markdown",
   "metadata": {},
   "source": [
    "Giả sử ở đây ta tìm LCS trên toàn bộ chiều dài của hai chuỗi v, w và trên các chuỗi con của v và w tương ứng với thứ tự các hậu tố là 500 và 400."
   ]
  },
  {
   "cell_type": "code",
   "execution_count": 331,
   "metadata": {},
   "outputs": [
    {
     "name": "stdout",
     "output_type": "stream",
     "text": [
      "Longest common subsequence:  GTGTGAGGCGCTGAAAGCTAGCTTCTGCTGCAGGGCCCCTCAAAAAAAATCGGGCCACATAGATGACCTCAGCGACGTCAATTATACAGTACATTAGTAGGTCAAGTGAATCTCCACTCAACGGGATTTGCGCAAGGACACTGGCCGTCAACGCAAAAAACTATTCGTGGCACACGTATGATAAGCAATATAGAGGCGGCCCATTGGTCCTATCTATCCGAGACACAATCGGGCGGGGTGCAGTTGGGGAAATTATATCCAGACTCGTTACCCAGAACCTCTTTACAGGTGCACACCAGGGAGCTCCAGAATCCTTCAATTGCGATCCTGTGCGCGGATCAGTCGAGACAGCCCACTTCATTGCAGGAACCGTAGACCCTAATCCCTGCGTGACCACCAACCACGGCACTTTTTCGCCATAGGAACTGGTATTCATGAGAAACCTGAAAATGCTGATTTACTCAGGCTCCCTGCAAGTAAAGACCATCGGCCCCACGGTCCGGATTAAATTGGGGGGTTGTTCGCATTACCGTACCTGGACCCGCATACTTACTGGAAAGA\n",
      "\n",
      "v alignment:  G--TG--TG-A-G--GTTACA-GCTCG---AA-A--G-C-T--------AGC--TTTCCCT--GCTGCGT-AGGG-CC-C-CTC-AA---A-AA-A-AGGA--TCCGG-GCTCATTAGGCATTTAACGGTATTGGAAATCCGATCAGAGTCGTT-A-CGTGC-AGGATAGT--AATCACATGTC-ACG--A-TTACGGAATAGTCGACTGCAATCGGAT-GG--ACAATCTCTTCATACTC-A-AATAC--GA-GGA-TT-TGG-CGCATCCCAGGGGGA-CCAGC-TGCGTC-C-GCC-TCC--AAA--CGT-C-AAAAAGGGCGGACTTAAGAG-T-TACGTGGACAGCAACGCCATTGAT--GATAGA-GGG-CATTA--TAATGAACCCCAGAGCTATG-CGCG-CAGCGCTGACTTAT--GAAGTCGTTCT---ATTT--CTACGCTCGCACAACGATGA-CCCA-CCAAGGTG-CGAAGGGCTG-GGC-GTGACAG---TT---GGG-G--AAGCCACTTGCAT--A-TCC-AGT-ATCATCAGTTACGG-CTC--AGATTCACCTTCCTT--TC-ACCTA-G-GGGGT----GCGCC-ACCG-ACATGCATAGCGGAGAAT-C--TCCACAGCATATTACCTA-TCA-A-TTCTG-CTTCGAGCATG-CACTGTAG-CTGGCCG-GGA--TA-CGAATGGGTTCGGA--G--AAAACA-GCCC----A--CAGTTA-C-ATCGTGGTC---AG--GTG-AA-CGGCG-TAGTGTACTGGCCCG-T-A-A-TCCCT--GC-GCTC-GA----CGTGGCGGGAGCCAG-A-----CCACTGGA---CA---------C-TTTTTCAGG--CCCTAGCT-AGCGG--AA---C--TAGGCTAG-TT-CGA--TG-ACA-GAAG-AACGCTAGGA-AGA-A--TG-CGTGATA-TT-AGAAAGC-TACATAGGCCCCCAT-CCCTG-CA-AAGTTG-AAC-A--G--AGCGCTATATCGGGCGG-CT-CGGCT-ACAGGG-T-CCTTTT--GGAT-T-AAGA---T-TGGGCATGGCTCGATTTGTTC-GC-AA--TTC--A--CCT--GTA--C--C------TGGTACA-CC-GGGCA----TT--A--CTTAATTA--CCCTGG--AAG-A-GT-AA--\n",
      "\n",
      "w alignment:  GAATGAATGGATGCCG---C-CGCT-GGGTAAGACTGGCCTGGGGTGTGAGCAATT-C--TACGCTGC--CAGGGACCGCGCTCTAAGCCACAATATA--ACATC-GGTGC-CA-----CAT--A--G--AT-G-A---CC--TCAG---CG--CAACGT-CCA--AT--TGGA-T-ACA-GT-GAC-CCAGTTA-G---TAG--G--T-CAA--G--TTG-TTA-A-TCTC--CA--CTCCAGA---CCTG-TGGACTTGTG-ACGCA----AGG---ATC-A-CATG-G-CACAG--GTC-GGAA-GGCG-GCGAAAAA------ACT-A----CTCT-CGTGG-CA-CA-CG---T--ATCCGATA-ACG--TCA--AACTA-T-A------GAG----GTCG-GTC--C-C--A-TT--CCG--GTC---CTTGGAT--GGCTA---TC-C-----GA-GATC--ATC-AA--T-ACG--GG-C-GAGG-AGTG-CAGCCATTTTCGGGCGTTAA---A-TT--ATCTAGTCCTAG-GA-C-TC-GTTAC--AC-CCCAGA---ACCT-C-TTGGT-GAC--ATGTG---TTTTTGC---TAC--TAC---CA--G-GGAG---GCGCTCCA--G-A-AT--CCT-GTCATAATT--GGC---GA---T-TC-CTGT-GGC-G-C-GAG-AGCT-TC-A--G--T-CG-ACCGGGA---CAAGCCCTTTGATTC--TT-GCCAT--TG--CCCTAGCCG--CAAAC--CGATAG---AC---CC--ATTATAGTCCCTTTGCTG-T-AGAAAAAC----C---A-CCA-CAATGTTCCAC-GG-GTTCAAGATAAAAGCGTTTTTC-G-TTCC--A--TTAG-G-TTAAAGTCCGT-GG-TA-CTTAC-ACCTGTA--TGAA-TA-C-CT-G-ACA-ATAACTGAC-TGAT-CTTCA-----CCT-CA--GGC-----TACCCTGTCAGA-GT--CAA-TACCGCCA-C-C-AT--CGG-C--AC-AC--C-GAC-GG-CTACC----ACGGATCTCAA-ACAATCTGGG---GG---G-TT-GTTCCGCTA-GGTT-TGAATCC-CAGTAAACGACAACGAATGG-AC-GCCCG--CAAAAGT-CGAGTCTTA----GGC--TGGGGAA-TACG-GA-TG\n"
     ]
    }
   ],
   "source": [
    "lcs, v_ali, w_ali = output_lcs(back_track, v, w, 910, 839)\n",
    "print(\"Longest common subsequence: \", lcs)\n",
    "print(\"\")\n",
    "print(\"v alignment: \", v_ali)\n",
    "print(\"\")\n",
    "print(\"w alignment: \", w_ali)"
   ]
  },
  {
   "cell_type": "code",
   "execution_count": 290,
   "metadata": {},
   "outputs": [
    {
     "data": {
      "text/plain": [
       "('GTGTGAGGCGCTGAAAGCTAGCTTCTGCTGCAGGGCCCCTCAAAAAAAATCGGGCCACATAGATGACCTCAGCGACGTCAATTATACAGTACATTAGTAGGTCAAGTGAATCTCCACTCAACGGGATTTGCGCAAGGACACTGGCCGTCAACGCAAAAAACTATTCGTGGCACACGTATGATAAGCAATATAGAGGCGGCCCATTGGTCCTATCTATCCGAGACACAATCGGGCGGGGTGCAGCCATTTTCCGTATATCAGTCCTAGACTCTTACACCCCGAATCTG',\n",
       " 'G--TG--TG-A-G--GTTACA-GCTCG---AA-A--G-C-T--------AGC--TTTCCCT--GCTGCGT-AGGG-CC-C-CTC-AA---A-AA-A-AGGA--TCCGG-GCTCATTAGGCATTTAACGGTATTGGAAATCCGATCAGAGTCGTT-A-CGTGC-AGGATAGT--AATCACATGTC-ACG--A-TTACGGAATAGTCGACTGCAATCGGAT-GG--ACAATCTCTTCATACTC-A-AATAC--GA-GGA-TT-TGG-CGCATCCCAGGGGGA-CCAGC-TGCGTC-C-GCC-TCC--AAA--CGT-C-AAAAAGGGCGGACTTAAGAG-T-TACGTGGACAGCAACGCCATTGAT--GATAGA-GGG-CATTA--TAATGAACCCCAGAGCTATG-CGCG-CAGCGCTGACTTAT--GAAGTCGTTCT---ATTT--CTACGCTCGCACAACGATGA-CCCA-CCAAGGTG-CGAAGGGCTG-GGC-GTGACAGTTGGGGAAGCCACTTGCATATC---CAGT-A--TC-ATC-AGTTACGGCTCAG-ATTCACCTTCC-TTTCACCTAGGGGGTGCGCCACC-GACA--TGCATA-GCGGA',\n",
       " 'GAATGAATGGATGCCG---C-CGCT-GGGTAAGACTGGCCTGGGGTGTGAGCAATT-C--TACGCTGC--CAGGGACCGCGCTCTAAGCCACAATATA--ACATC-GGTGC-CA-----CAT--A--G--AT-G-A---CC--TCAG---CG--CAACGT-CCA--AT--TGGA-T-ACA-GT-GAC-CCAGTTA-G---TAG--G--T-CAA--G--TTG-TTA-A-TCTC--CA--CTCCAGA---CCTG-TGGACTTGTG-ACGCA----AGG---ATC-A-CATG-G-CACAG--GTC-GGAA-GGCG-GCGAAAAA------ACT-A----CTCT-CGTGG-CA-CA-CG---T--ATCCGATA-ACG--TCA--AACTA-T-A------GAG----GTCG-GTC--C-C--A-TT--CCG--GTC---CTTGGAT--GGCTA---TC-C-----GA-GATC--ATC-AA--T-ACG--GG-C-GAGG-AGTG-CAG---------CCA-TT---T-TCGGGC-GTTAAAT-TATCTAGT--C--CT-AGGA--C---T-C-GTT--AC--A-------C-CC-C-AGA-ACCT-C-T-TG----')"
      ]
     },
     "execution_count": 290,
     "metadata": {},
     "output_type": "execute_result"
    }
   ],
   "source": [
    "output_lcs(back_track, v, w, 500, 400)"
   ]
  },
  {
   "cell_type": "markdown",
   "metadata": {},
   "source": [
    "Phương pháp quay lui có thể được khái quát hóa để xây dựng một đường dài nhất trong bất kỳ DAG nào dựa trên Topological Ordering của đồ thị đó."
   ]
  },
  {
   "cell_type": "markdown",
   "metadata": {},
   "source": [
    "#### 1.2.4 Finding a Topological Ordering from a DAG"
   ]
  },
  {
   "cell_type": "markdown",
   "metadata": {},
   "source": [
    "Chú ý rằng mọi DAG có thể xây dựng được một Topological Ordering,  ví dụ một dạng Topological Ordering như hình dưới. Dựa trên quan sát rằng mọi DAG đều có ít nhất một nút không có cạnh vào, chúng ta sẽ dán nhãn một trong các nút này là $v_1$ và sau đó loại bỏ nút này khỏi biểu đồ cùng với tất cả các cạnh ra của nó. Biểu đồ kết quả cũng là một DAG, do đó phải có một nút không có cạnh đến; chúng ta gắn nhãn nút này là $v_2$ và một lần nữa loại bỏ nó khỏi biểu đồ cùng với các cạnh ra của nó. Thuật toán kết thúc cho đến khi tất cả các nút có đã được gỡ bỏ, một Topological Ordering $v_1$ ,. . . , $v_n$ được tạo ra. Thuật toán này có <b>độ phức tạp tính toán tỷ lệ với số cạnh trong DAG</b>."
   ]
  },
  {
   "cell_type": "markdown",
   "metadata": {},
   "source": [
    "<a><img src=\"https://imgur.com/rBBE6es.jpg\" width=\"500\" align=\"center\">     "
   ]
  },
  {
   "cell_type": "code",
   "execution_count": 166,
   "metadata": {},
   "outputs": [],
   "source": [
    "# Loading a graph data from local computer\n",
    "data_alignment = pd.read_csv(\"D:/Data Science/Data/Comparing genes, proteins, genome/274.csv\")\n",
    "#data_alignment = pd.read_csv(\"D:/Data Science/Data/Comparing genes, proteins, genome/test_1.csv\")"
   ]
  },
  {
   "cell_type": "code",
   "execution_count": 167,
   "metadata": {},
   "outputs": [
    {
     "data": {
      "text/html": [
       "<div>\n",
       "<style scoped>\n",
       "    .dataframe tbody tr th:only-of-type {\n",
       "        vertical-align: middle;\n",
       "    }\n",
       "\n",
       "    .dataframe tbody tr th {\n",
       "        vertical-align: top;\n",
       "    }\n",
       "\n",
       "    .dataframe thead th {\n",
       "        text-align: right;\n",
       "    }\n",
       "</style>\n",
       "<table border=\"1\" class=\"dataframe\">\n",
       "  <thead>\n",
       "    <tr style=\"text-align: right;\">\n",
       "      <th></th>\n",
       "      <th>v</th>\n",
       "      <th>w</th>\n",
       "      <th>weight</th>\n",
       "    </tr>\n",
       "  </thead>\n",
       "  <tbody>\n",
       "    <tr>\n",
       "      <th>0</th>\n",
       "      <td>0</td>\n",
       "      <td>4</td>\n",
       "      <td>9</td>\n",
       "    </tr>\n",
       "    <tr>\n",
       "      <th>1</th>\n",
       "      <td>4</td>\n",
       "      <td>18</td>\n",
       "      <td>20</td>\n",
       "    </tr>\n",
       "    <tr>\n",
       "      <th>2</th>\n",
       "      <td>18</td>\n",
       "      <td>27</td>\n",
       "      <td>14</td>\n",
       "    </tr>\n",
       "    <tr>\n",
       "      <th>3</th>\n",
       "      <td>27</td>\n",
       "      <td>49</td>\n",
       "      <td>13</td>\n",
       "    </tr>\n",
       "    <tr>\n",
       "      <th>4</th>\n",
       "      <td>4</td>\n",
       "      <td>18</td>\n",
       "      <td>7</td>\n",
       "    </tr>\n",
       "  </tbody>\n",
       "</table>\n",
       "</div>"
      ],
      "text/plain": [
       "    v   w  weight\n",
       "0   0   4       9\n",
       "1   4  18      20\n",
       "2  18  27      14\n",
       "3  27  49      13\n",
       "4   4  18       7"
      ]
     },
     "execution_count": 167,
     "metadata": {},
     "output_type": "execute_result"
    }
   ],
   "source": [
    "data_alignment.head()"
   ]
  },
  {
   "cell_type": "code",
   "execution_count": 52,
   "metadata": {},
   "outputs": [],
   "source": [
    "# Create a graph from the data.\n",
    "def get_graph(data):\n",
    "    gr = []\n",
    "    for i in range(data.shape[0]):\n",
    "        gr.append((data.iloc[i, 0], data.iloc[i, 1]))\n",
    "    return(gr)    "
   ]
  },
  {
   "cell_type": "markdown",
   "metadata": {},
   "source": [
    "Một đồ thị bao gồm các cạnh được tạo thành bởi mỗi 2 nút."
   ]
  },
  {
   "cell_type": "code",
   "execution_count": 168,
   "metadata": {},
   "outputs": [
    {
     "data": {
      "text/plain": [
       "[(0, 4), (4, 18), (18, 27), (27, 49), (4, 18)]"
      ]
     },
     "execution_count": 168,
     "metadata": {},
     "output_type": "execute_result"
    }
   ],
   "source": [
    "graph = get_graph(data_alignment)\n",
    "graph[0:5]"
   ]
  },
  {
   "cell_type": "code",
   "execution_count": 121,
   "metadata": {},
   "outputs": [],
   "source": [
    "# Finding a set of vertices from a graph\n",
    "def get_vertices(graph):\n",
    "    df = graph[:]\n",
    "    first = []\n",
    "    end = []\n",
    "    for edg in df:\n",
    "        first.append(edg[0])\n",
    "        end.append(edg[1])\n",
    "    vertices = np.unique(first + end).tolist()\n",
    "    return(vertices)"
   ]
  },
  {
   "cell_type": "code",
   "execution_count": 169,
   "metadata": {},
   "outputs": [
    {
     "data": {
      "text/plain": [
       "[0, 2, 3, 4, 5, 6, 7, 9, 10, 11]"
      ]
     },
     "execution_count": 169,
     "metadata": {},
     "output_type": "execute_result"
    }
   ],
   "source": [
    "vertices = get_vertices(graph)\n",
    "vertices[0:10]"
   ]
  },
  {
   "cell_type": "code",
   "execution_count": 139,
   "metadata": {},
   "outputs": [],
   "source": [
    "# Finding a noincoming vertex \n",
    "def deter_noincoming_vertex(graph, first_node):\n",
    "    all_end_node = []\n",
    "    for x in graph:\n",
    "        all_end_node.append(x[1])\n",
    "    # A noincoming vertex is a vertex that it's indegree is zero.\n",
    "    if (first_node in all_end_node) == False:\n",
    "        return(first_node)\n",
    "    else:\n",
    "        return(\"No incoming node\")"
   ]
  },
  {
   "cell_type": "code",
   "execution_count": 170,
   "metadata": {},
   "outputs": [
    {
     "data": {
      "text/plain": [
       "0"
      ]
     },
     "execution_count": 170,
     "metadata": {},
     "output_type": "execute_result"
    }
   ],
   "source": [
    "find_noincoming_vertex(graph, 0)"
   ]
  },
  {
   "cell_type": "code",
   "execution_count": 143,
   "metadata": {},
   "outputs": [],
   "source": [
    "# Find all noincoming vertices\n",
    "def get_candidates(graph):\n",
    "    candi = []\n",
    "    for x in graph:\n",
    "        if deter_noincoming_vertex(graph, x[0]) == x[0]:\n",
    "            candi.append(x[0])\n",
    "    candi = np.unique(candi).tolist()\n",
    "    return(candi)"
   ]
  },
  {
   "cell_type": "code",
   "execution_count": 171,
   "metadata": {},
   "outputs": [
    {
     "data": {
      "text/plain": [
       "[0]"
      ]
     },
     "execution_count": 171,
     "metadata": {},
     "output_type": "execute_result"
    }
   ],
   "source": [
    "get_candidates(graph)"
   ]
  },
  {
   "cell_type": "code",
   "execution_count": 157,
   "metadata": {},
   "outputs": [],
   "source": [
    "# Get out going edge from a node.\n",
    "def get_out_going_edge(graph, node):\n",
    "    out_edge = []\n",
    "    out_node = []\n",
    "    for edge in graph:\n",
    "        if node == edge[0]:\n",
    "            out_edge.append(edge)\n",
    "            out_node.append(edge[1])\n",
    "    return(out_edge)"
   ]
  },
  {
   "cell_type": "code",
   "execution_count": 172,
   "metadata": {},
   "outputs": [
    {
     "data": {
      "text/plain": [
       "[(0, 4), (0, 22), (0, 2)]"
      ]
     },
     "execution_count": 172,
     "metadata": {},
     "output_type": "execute_result"
    }
   ],
   "source": [
    "get_out_going_edge(graph, 0)"
   ]
  },
  {
   "cell_type": "code",
   "execution_count": 164,
   "metadata": {},
   "outputs": [],
   "source": [
    "# Finding Topological Ordering of a DAG\n",
    "def find_topolocical_ordering(graph):\n",
    "    new_graph = graph[:]\n",
    "    topo_list = []\n",
    "    remove_ver = []\n",
    "    candidates = get_candidates(new_graph)\n",
    "       \n",
    "    while candidates != []:\n",
    "        # Select an arbitrary node a from candidates\n",
    "        a = candidates[0]\n",
    "        # Add a to the end of topo_list and remove it from candidates\n",
    "        topo_list.append(a)\n",
    "        candidates.remove(a)\n",
    "        out_edge = get_out_going_edge(graph, a)\n",
    "        for oge in out_edge:\n",
    "            # Remove edge (a, b) from graph\n",
    "            new_graph.remove(oge)\n",
    "            b = oge[1]\n",
    "            if b == deter_noincoming_vertex(new_graph, b):\n",
    "                candidates.append(b)  \n",
    "    # If graph has edges that have not been removed then return “the input graph is not a DAG”                \n",
    "    if new_graph != []:\n",
    "        return(\"The input graph is not a DAG\")\n",
    "    else:\n",
    "        return(topo_list)"
   ]
  },
  {
   "cell_type": "code",
   "execution_count": 173,
   "metadata": {},
   "outputs": [
    {
     "name": "stdout",
     "output_type": "stream",
     "text": [
      "[0, 4, 2, 3, 5, 16, 6, 10, 7, 18, 9, 25, 21, 11, 12, 33, 15, 13, 22, 17, 27, 28, 26, 19, 20, 37, 31, 30, 23, 39, 32, 35, 29, 34, 36, 38, 40, 47, 41, 42, 43, 45, 44, 46, 48, 49]\n"
     ]
    }
   ],
   "source": [
    "topo_ord = find_topolocical_ordering(graph)\n",
    "print(topo_ord)"
   ]
  },
  {
   "cell_type": "markdown",
   "metadata": {},
   "source": [
    "### 1.3 Scoring Alignments"
   ]
  },
  {
   "cell_type": "markdown",
   "metadata": {},
   "source": [
    "Không khó để xây dựng một alignment có nhiều kết quả khớp hơn với nhiều indels hơn. Tuy nhiên, chúng ta càng thêm nhiều indel, alignment càng ít liên quan về mặt sinh học, vì nó phân kỳ ngày càng xa khỏi alignment chính xác về mặt sinh học được tìm thấy bởi Marahiel. Dưới đây là alignment với số lượng match tối đa, đại diện cho LCS có độ dài 19 + 8 + 19 = 46 (biểu tượng màu xanh lá cây đại diện cho match mới). "
   ]
  },
  {
   "cell_type": "markdown",
   "metadata": {},
   "source": [
    "<a><img src=\"https://imgur.com/KOmgn0f.jpg\" width=\"600\" align=\"center\">     "
   ]
  },
  {
   "cell_type": "markdown",
   "metadata": {},
   "source": [
    "Dưới đây, ta đánh dấu các axit amin màu tím đại diện cho các kí hiệu phi ribosome. Mặc dù các kí hiệu này được nhóm thành tám cột được bảo tồn trong gióng hàng của Marahiel, từ đầu chương, nhưng chỉ có năm trong số các cột này còn tồn tại trong các alignment LCS dẫn đến không thể suy ra các kí hiệu phi ribosome:"
   ]
  },
  {
   "cell_type": "markdown",
   "metadata": {},
   "source": [
    "<a><img src=\"https://imgur.com/fuRG77b.jpg\" width=\"600\" align=\"center\">     "
   ]
  },
  {
   "cell_type": "markdown",
   "metadata": {},
   "source": [
    "Để khái quát mô hình tính điểm gióng hàng, ta thưởng +1 cho các match, nhưng phạt mismatch bằng một số hằng số dương $\\mu$ (mismatch penalty) và indels bởi một số hằng số dương $\\sigma$ (indel penalty). Kết quả, score của alignment bằng biểu thức sau:"
   ]
  },
  {
   "cell_type": "markdown",
   "metadata": {},
   "source": [
    "#matches - $\\mu$.#mismatches - $\\sigma$.#indels"
   ]
  },
  {
   "cell_type": "markdown",
   "metadata": {},
   "source": [
    "Các nhà sinh học đã tinh chỉnh hàm cost function này vì thực tế một số đột biến có thể có nhiều khả năng hơn các đột biến khác, điều này đòi hỏi phạt mismatch và indel khác nhau. Chúng ta sẽ mở rộng k kí hiệu được xắp xếp theo bảng chữ cái bao gồm ký hiệu trống và sau đó xây dựng scoring matrix cỡ (k + 1) × (k + 1) chứa score của alignment mọi cặp ký hiệu. Scoring matrix để so sánh trình tự DNA (k = 4) khi tất cả các mismatch bị phạt bởi $\\mu$ và tất cả các indel bị phạt bởi $\\sigma$ được giới thiệu bên dưới:"
   ]
  },
  {
   "cell_type": "markdown",
   "metadata": {},
   "source": [
    "<a><img src=\"https://imgur.com/BQLNnnR.jpg\" width=\"300\" align=\"center\">     "
   ]
  },
  {
   "cell_type": "markdown",
   "metadata": {},
   "source": [
    "Mặc dù scoring matrix để so sánh trình tự DNA thường chỉ được xác định bởi các tham số $\\mu$ và $\\sigma$, nhưng scoring matrix để so sánh trình tự protein đánh trọng số khác nhau cho các đột biến khác nhau. Ví dụ, scoring matrix PAM250 được giới thiệu bên dưới:"
   ]
  },
  {
   "cell_type": "markdown",
   "metadata": {},
   "source": [
    "<a><img src=\"https://imgur.com/Chjz2fb.jpg\" width=\"600\" align=\"center\">     "
   ]
  },
  {
   "cell_type": "markdown",
   "metadata": {},
   "source": [
    "Ví dụ dưới đây chúng ta sẽ tìm đường chung dài nhất giữa hai chuỗi v và w, trong đó các indel bị phạt với $\\sigma=5$, score của các mismatch và match theo scoring matrix được lưu trong BLOSUM62.txt."
   ]
  },
  {
   "cell_type": "code",
   "execution_count": 358,
   "metadata": {},
   "outputs": [],
   "source": [
    "v=\"NVSSAHFHTAQNKSSDTMVCPAWSNWWAIGHWYRVSTPLYSCHFWAYRNMAEYTKYQKFGSYHTLTMCIYSMMISNVFFQRTYMMGDDGEYNPKMRTWTYMKTVQVHETMKGNAFMEKMFRYWPNGMTTDVWANMASFNEHVMEFKNLRFITYKPEQKFEESDHSRHDPVNVRHWIMHICYFVKMHTYRQLNYKGAKGRLFWQPQRMANKISHNRNNYAAYNYGQASDNTNMLNWWDAIFIQELCVPCFPYSLDVVQALGRCKYGGGKEVCHYHNNVWAVQSLWMVFKKRVHRLIHNLMCCRWNPCKVHMNMRNRIYEWMCGPNQAKICAKYWMPHRSACYAGQWTQKVYQAWYVISLANVMVPLFPVMLNRTYAPFQDLWHEVMYHGIQWWANCITVMFSMIVGRVQEKERTQILEKNCGVTSMWFWEQHCLHVFVGVFLNGAGIVYHYRCTELTRSSSGSKTWDHQPSHWVEAECNVWQAQFIEGAHFCMRACSYDQIVMIHLLTGWDHHTFDTKHERHDLLSLRWQFFAITHPTQFAHKFREWVIFKKLIFPSYPIHQQTNNYEEMTCHSRCDSSDYMYGPPLITSEICYMTPGKHGIFHVMWKTTGTCSAFFECNPSCRCYPNDRPAKIGDGTCFCYQGYMRRDCREYLFRKDDKFDILQECYIYPHVEWAEVFWPMHVEFSDLLVGQGNCEKNCSARMQAGYADMWFLSPNKMKSMSCIMFNVTTGKRGWSHMIGYVVCYIYSTIPCYDKIDKEVEAMHIEYSQIRGKIERSHMYCEIVNTPAFFWMPPLPETF\"\n",
    "w=\"NVSSSHFHTPKLHMDDQNQRYVCDDMVCPPWSNWWAIGLWYSVSTPLPGMKSEESCHFWAYRNMAEYTKYQKFGSGSNPHTLTMCIYSYGISNVFFQRTYMMGDDGCFFFLYYNPKMRTWTYMKTVQVHETMKENANIQEVNAFNEKMFRYWPHNMAPKFARSDHSRHDPICYFVKMHTYRQGVLFWQPEVSDVHEITRMANKPKPANRNNSGRANLNTNMLNLCVPCFPQALGRCKYADMGVKAFDSQWCHYHARGLANVWEVQSEWMGCAKHDIKKRVHRLIHNLMCCYWNPCKVHMNMRNRIGPNQAKICAKYWMPHRQKSHTAAGDWTQKVYQRQPMCGWGVISLFTWGRWVMDQWFPVTENFWGEQMCHGIQWWANCITVRNSHTQPFSMCVGRVQEKERTQILEKNCEQDCEMSVDMYWTIICLHVFVGVSLNGAGIVYHYRCTELTRSSSGSKTWDHQPSIWVEAECNVWQIQFIEGAHTKVWNPDCMRACSYPMSGNPDHLLTGWDHHTFDTKHERHDLLELRWNFLHTYASAITHPVFQFAHKFIFPSYPIHYQTNNYEEKDAPTACPYGPPLVIPGITSLICYMTPGKHGIFHVMWKTTGTCSAFFESFRCYPNDRPAKIGDGTCFVTDMDRDCRAMSTSWFYLFRKDTLKFDIKQECYIYPHVEWAEVFWPMHVGQMNCEDMWFKMKSMPYNIIIYGIMFNVFITCGSDHMPGYVCYKYSTIPCIDKIDREVESAERSHTTLDVNNAECLKGAAVDKYGGETF\""
   ]
  },
  {
   "cell_type": "code",
   "execution_count": 323,
   "metadata": {},
   "outputs": [
    {
     "data": {
      "text/html": [
       "<div>\n",
       "<style scoped>\n",
       "    .dataframe tbody tr th:only-of-type {\n",
       "        vertical-align: middle;\n",
       "    }\n",
       "\n",
       "    .dataframe tbody tr th {\n",
       "        vertical-align: top;\n",
       "    }\n",
       "\n",
       "    .dataframe thead th {\n",
       "        text-align: right;\n",
       "    }\n",
       "</style>\n",
       "<table border=\"1\" class=\"dataframe\">\n",
       "  <thead>\n",
       "    <tr style=\"text-align: right;\">\n",
       "      <th></th>\n",
       "      <th>A</th>\n",
       "      <th>C</th>\n",
       "      <th>D</th>\n",
       "      <th>E</th>\n",
       "      <th>F</th>\n",
       "      <th>G</th>\n",
       "      <th>H</th>\n",
       "      <th>I</th>\n",
       "      <th>K</th>\n",
       "      <th>L</th>\n",
       "      <th>M</th>\n",
       "      <th>N</th>\n",
       "      <th>P</th>\n",
       "      <th>Q</th>\n",
       "      <th>R</th>\n",
       "      <th>S</th>\n",
       "      <th>T</th>\n",
       "      <th>V</th>\n",
       "      <th>W</th>\n",
       "      <th>Y</th>\n",
       "    </tr>\n",
       "  </thead>\n",
       "  <tbody>\n",
       "    <tr>\n",
       "      <th>A</th>\n",
       "      <td>4</td>\n",
       "      <td>0</td>\n",
       "      <td>-2</td>\n",
       "      <td>-1</td>\n",
       "      <td>-2</td>\n",
       "      <td>0</td>\n",
       "      <td>-2</td>\n",
       "      <td>-1</td>\n",
       "      <td>-1</td>\n",
       "      <td>-1</td>\n",
       "      <td>-1</td>\n",
       "      <td>-2</td>\n",
       "      <td>-1</td>\n",
       "      <td>-1</td>\n",
       "      <td>-1</td>\n",
       "      <td>1</td>\n",
       "      <td>0</td>\n",
       "      <td>0</td>\n",
       "      <td>-3</td>\n",
       "      <td>-2</td>\n",
       "    </tr>\n",
       "    <tr>\n",
       "      <th>C</th>\n",
       "      <td>0</td>\n",
       "      <td>9</td>\n",
       "      <td>-3</td>\n",
       "      <td>-4</td>\n",
       "      <td>-2</td>\n",
       "      <td>-3</td>\n",
       "      <td>-3</td>\n",
       "      <td>-1</td>\n",
       "      <td>-3</td>\n",
       "      <td>-1</td>\n",
       "      <td>-1</td>\n",
       "      <td>-3</td>\n",
       "      <td>-3</td>\n",
       "      <td>-3</td>\n",
       "      <td>-3</td>\n",
       "      <td>-1</td>\n",
       "      <td>-1</td>\n",
       "      <td>-1</td>\n",
       "      <td>-2</td>\n",
       "      <td>-2</td>\n",
       "    </tr>\n",
       "    <tr>\n",
       "      <th>D</th>\n",
       "      <td>-2</td>\n",
       "      <td>-3</td>\n",
       "      <td>6</td>\n",
       "      <td>2</td>\n",
       "      <td>-3</td>\n",
       "      <td>-1</td>\n",
       "      <td>-1</td>\n",
       "      <td>-3</td>\n",
       "      <td>-1</td>\n",
       "      <td>-4</td>\n",
       "      <td>-3</td>\n",
       "      <td>1</td>\n",
       "      <td>-1</td>\n",
       "      <td>0</td>\n",
       "      <td>-2</td>\n",
       "      <td>0</td>\n",
       "      <td>-1</td>\n",
       "      <td>-3</td>\n",
       "      <td>-4</td>\n",
       "      <td>-3</td>\n",
       "    </tr>\n",
       "    <tr>\n",
       "      <th>E</th>\n",
       "      <td>-1</td>\n",
       "      <td>-4</td>\n",
       "      <td>2</td>\n",
       "      <td>5</td>\n",
       "      <td>-3</td>\n",
       "      <td>-2</td>\n",
       "      <td>0</td>\n",
       "      <td>-3</td>\n",
       "      <td>1</td>\n",
       "      <td>-3</td>\n",
       "      <td>-2</td>\n",
       "      <td>0</td>\n",
       "      <td>-1</td>\n",
       "      <td>2</td>\n",
       "      <td>0</td>\n",
       "      <td>0</td>\n",
       "      <td>-1</td>\n",
       "      <td>-2</td>\n",
       "      <td>-3</td>\n",
       "      <td>-2</td>\n",
       "    </tr>\n",
       "    <tr>\n",
       "      <th>F</th>\n",
       "      <td>-2</td>\n",
       "      <td>-2</td>\n",
       "      <td>-3</td>\n",
       "      <td>-3</td>\n",
       "      <td>6</td>\n",
       "      <td>-3</td>\n",
       "      <td>-1</td>\n",
       "      <td>0</td>\n",
       "      <td>-3</td>\n",
       "      <td>0</td>\n",
       "      <td>0</td>\n",
       "      <td>-3</td>\n",
       "      <td>-4</td>\n",
       "      <td>-3</td>\n",
       "      <td>-3</td>\n",
       "      <td>-2</td>\n",
       "      <td>-2</td>\n",
       "      <td>-1</td>\n",
       "      <td>1</td>\n",
       "      <td>3</td>\n",
       "    </tr>\n",
       "    <tr>\n",
       "      <th>G</th>\n",
       "      <td>0</td>\n",
       "      <td>-3</td>\n",
       "      <td>-1</td>\n",
       "      <td>-2</td>\n",
       "      <td>-3</td>\n",
       "      <td>6</td>\n",
       "      <td>-2</td>\n",
       "      <td>-4</td>\n",
       "      <td>-2</td>\n",
       "      <td>-4</td>\n",
       "      <td>-3</td>\n",
       "      <td>0</td>\n",
       "      <td>-2</td>\n",
       "      <td>-2</td>\n",
       "      <td>-2</td>\n",
       "      <td>0</td>\n",
       "      <td>-2</td>\n",
       "      <td>-3</td>\n",
       "      <td>-2</td>\n",
       "      <td>-3</td>\n",
       "    </tr>\n",
       "    <tr>\n",
       "      <th>H</th>\n",
       "      <td>-2</td>\n",
       "      <td>-3</td>\n",
       "      <td>-1</td>\n",
       "      <td>0</td>\n",
       "      <td>-1</td>\n",
       "      <td>-2</td>\n",
       "      <td>8</td>\n",
       "      <td>-3</td>\n",
       "      <td>-1</td>\n",
       "      <td>-3</td>\n",
       "      <td>-2</td>\n",
       "      <td>1</td>\n",
       "      <td>-2</td>\n",
       "      <td>0</td>\n",
       "      <td>0</td>\n",
       "      <td>-1</td>\n",
       "      <td>-2</td>\n",
       "      <td>-3</td>\n",
       "      <td>-2</td>\n",
       "      <td>2</td>\n",
       "    </tr>\n",
       "    <tr>\n",
       "      <th>I</th>\n",
       "      <td>-1</td>\n",
       "      <td>-1</td>\n",
       "      <td>-3</td>\n",
       "      <td>-3</td>\n",
       "      <td>0</td>\n",
       "      <td>-4</td>\n",
       "      <td>-3</td>\n",
       "      <td>4</td>\n",
       "      <td>-3</td>\n",
       "      <td>2</td>\n",
       "      <td>1</td>\n",
       "      <td>-3</td>\n",
       "      <td>-3</td>\n",
       "      <td>-3</td>\n",
       "      <td>-3</td>\n",
       "      <td>-2</td>\n",
       "      <td>-1</td>\n",
       "      <td>3</td>\n",
       "      <td>-3</td>\n",
       "      <td>-1</td>\n",
       "    </tr>\n",
       "    <tr>\n",
       "      <th>K</th>\n",
       "      <td>-1</td>\n",
       "      <td>-3</td>\n",
       "      <td>-1</td>\n",
       "      <td>1</td>\n",
       "      <td>-3</td>\n",
       "      <td>-2</td>\n",
       "      <td>-1</td>\n",
       "      <td>-3</td>\n",
       "      <td>5</td>\n",
       "      <td>-2</td>\n",
       "      <td>-1</td>\n",
       "      <td>0</td>\n",
       "      <td>-1</td>\n",
       "      <td>1</td>\n",
       "      <td>2</td>\n",
       "      <td>0</td>\n",
       "      <td>-1</td>\n",
       "      <td>-2</td>\n",
       "      <td>-3</td>\n",
       "      <td>-2</td>\n",
       "    </tr>\n",
       "    <tr>\n",
       "      <th>L</th>\n",
       "      <td>-1</td>\n",
       "      <td>-1</td>\n",
       "      <td>-4</td>\n",
       "      <td>-3</td>\n",
       "      <td>0</td>\n",
       "      <td>-4</td>\n",
       "      <td>-3</td>\n",
       "      <td>2</td>\n",
       "      <td>-2</td>\n",
       "      <td>4</td>\n",
       "      <td>2</td>\n",
       "      <td>-3</td>\n",
       "      <td>-3</td>\n",
       "      <td>-2</td>\n",
       "      <td>-2</td>\n",
       "      <td>-2</td>\n",
       "      <td>-1</td>\n",
       "      <td>1</td>\n",
       "      <td>-2</td>\n",
       "      <td>-1</td>\n",
       "    </tr>\n",
       "    <tr>\n",
       "      <th>M</th>\n",
       "      <td>-1</td>\n",
       "      <td>-1</td>\n",
       "      <td>-3</td>\n",
       "      <td>-2</td>\n",
       "      <td>0</td>\n",
       "      <td>-3</td>\n",
       "      <td>-2</td>\n",
       "      <td>1</td>\n",
       "      <td>-1</td>\n",
       "      <td>2</td>\n",
       "      <td>5</td>\n",
       "      <td>-2</td>\n",
       "      <td>-2</td>\n",
       "      <td>0</td>\n",
       "      <td>-1</td>\n",
       "      <td>-1</td>\n",
       "      <td>-1</td>\n",
       "      <td>1</td>\n",
       "      <td>-1</td>\n",
       "      <td>-1</td>\n",
       "    </tr>\n",
       "    <tr>\n",
       "      <th>N</th>\n",
       "      <td>-2</td>\n",
       "      <td>-3</td>\n",
       "      <td>1</td>\n",
       "      <td>0</td>\n",
       "      <td>-3</td>\n",
       "      <td>0</td>\n",
       "      <td>1</td>\n",
       "      <td>-3</td>\n",
       "      <td>0</td>\n",
       "      <td>-3</td>\n",
       "      <td>-2</td>\n",
       "      <td>6</td>\n",
       "      <td>-2</td>\n",
       "      <td>0</td>\n",
       "      <td>0</td>\n",
       "      <td>1</td>\n",
       "      <td>0</td>\n",
       "      <td>-3</td>\n",
       "      <td>-4</td>\n",
       "      <td>-2</td>\n",
       "    </tr>\n",
       "    <tr>\n",
       "      <th>P</th>\n",
       "      <td>-1</td>\n",
       "      <td>-3</td>\n",
       "      <td>-1</td>\n",
       "      <td>-1</td>\n",
       "      <td>-4</td>\n",
       "      <td>-2</td>\n",
       "      <td>-2</td>\n",
       "      <td>-3</td>\n",
       "      <td>-1</td>\n",
       "      <td>-3</td>\n",
       "      <td>-2</td>\n",
       "      <td>-2</td>\n",
       "      <td>7</td>\n",
       "      <td>-1</td>\n",
       "      <td>-2</td>\n",
       "      <td>-1</td>\n",
       "      <td>-1</td>\n",
       "      <td>-2</td>\n",
       "      <td>-4</td>\n",
       "      <td>-3</td>\n",
       "    </tr>\n",
       "    <tr>\n",
       "      <th>Q</th>\n",
       "      <td>-1</td>\n",
       "      <td>-3</td>\n",
       "      <td>0</td>\n",
       "      <td>2</td>\n",
       "      <td>-3</td>\n",
       "      <td>-2</td>\n",
       "      <td>0</td>\n",
       "      <td>-3</td>\n",
       "      <td>1</td>\n",
       "      <td>-2</td>\n",
       "      <td>0</td>\n",
       "      <td>0</td>\n",
       "      <td>-1</td>\n",
       "      <td>5</td>\n",
       "      <td>1</td>\n",
       "      <td>0</td>\n",
       "      <td>-1</td>\n",
       "      <td>-2</td>\n",
       "      <td>-2</td>\n",
       "      <td>-1</td>\n",
       "    </tr>\n",
       "    <tr>\n",
       "      <th>R</th>\n",
       "      <td>-1</td>\n",
       "      <td>-3</td>\n",
       "      <td>-2</td>\n",
       "      <td>0</td>\n",
       "      <td>-3</td>\n",
       "      <td>-2</td>\n",
       "      <td>0</td>\n",
       "      <td>-3</td>\n",
       "      <td>2</td>\n",
       "      <td>-2</td>\n",
       "      <td>-1</td>\n",
       "      <td>0</td>\n",
       "      <td>-2</td>\n",
       "      <td>1</td>\n",
       "      <td>5</td>\n",
       "      <td>-1</td>\n",
       "      <td>-1</td>\n",
       "      <td>-3</td>\n",
       "      <td>-3</td>\n",
       "      <td>-2</td>\n",
       "    </tr>\n",
       "    <tr>\n",
       "      <th>S</th>\n",
       "      <td>1</td>\n",
       "      <td>-1</td>\n",
       "      <td>0</td>\n",
       "      <td>0</td>\n",
       "      <td>-2</td>\n",
       "      <td>0</td>\n",
       "      <td>-1</td>\n",
       "      <td>-2</td>\n",
       "      <td>0</td>\n",
       "      <td>-2</td>\n",
       "      <td>-1</td>\n",
       "      <td>1</td>\n",
       "      <td>-1</td>\n",
       "      <td>0</td>\n",
       "      <td>-1</td>\n",
       "      <td>4</td>\n",
       "      <td>1</td>\n",
       "      <td>-2</td>\n",
       "      <td>-3</td>\n",
       "      <td>-2</td>\n",
       "    </tr>\n",
       "    <tr>\n",
       "      <th>T</th>\n",
       "      <td>0</td>\n",
       "      <td>-1</td>\n",
       "      <td>-1</td>\n",
       "      <td>-1</td>\n",
       "      <td>-2</td>\n",
       "      <td>-2</td>\n",
       "      <td>-2</td>\n",
       "      <td>-1</td>\n",
       "      <td>-1</td>\n",
       "      <td>-1</td>\n",
       "      <td>-1</td>\n",
       "      <td>0</td>\n",
       "      <td>-1</td>\n",
       "      <td>-1</td>\n",
       "      <td>-1</td>\n",
       "      <td>1</td>\n",
       "      <td>5</td>\n",
       "      <td>0</td>\n",
       "      <td>-2</td>\n",
       "      <td>-2</td>\n",
       "    </tr>\n",
       "    <tr>\n",
       "      <th>V</th>\n",
       "      <td>0</td>\n",
       "      <td>-1</td>\n",
       "      <td>-3</td>\n",
       "      <td>-2</td>\n",
       "      <td>-1</td>\n",
       "      <td>-3</td>\n",
       "      <td>-3</td>\n",
       "      <td>3</td>\n",
       "      <td>-2</td>\n",
       "      <td>1</td>\n",
       "      <td>1</td>\n",
       "      <td>-3</td>\n",
       "      <td>-2</td>\n",
       "      <td>-2</td>\n",
       "      <td>-3</td>\n",
       "      <td>-2</td>\n",
       "      <td>0</td>\n",
       "      <td>4</td>\n",
       "      <td>-3</td>\n",
       "      <td>-1</td>\n",
       "    </tr>\n",
       "    <tr>\n",
       "      <th>W</th>\n",
       "      <td>-3</td>\n",
       "      <td>-2</td>\n",
       "      <td>-4</td>\n",
       "      <td>-3</td>\n",
       "      <td>1</td>\n",
       "      <td>-2</td>\n",
       "      <td>-2</td>\n",
       "      <td>-3</td>\n",
       "      <td>-3</td>\n",
       "      <td>-2</td>\n",
       "      <td>-1</td>\n",
       "      <td>-4</td>\n",
       "      <td>-4</td>\n",
       "      <td>-2</td>\n",
       "      <td>-3</td>\n",
       "      <td>-3</td>\n",
       "      <td>-2</td>\n",
       "      <td>-3</td>\n",
       "      <td>11</td>\n",
       "      <td>2</td>\n",
       "    </tr>\n",
       "    <tr>\n",
       "      <th>Y</th>\n",
       "      <td>-2</td>\n",
       "      <td>-2</td>\n",
       "      <td>-3</td>\n",
       "      <td>-2</td>\n",
       "      <td>3</td>\n",
       "      <td>-3</td>\n",
       "      <td>2</td>\n",
       "      <td>-1</td>\n",
       "      <td>-2</td>\n",
       "      <td>-1</td>\n",
       "      <td>-1</td>\n",
       "      <td>-2</td>\n",
       "      <td>-3</td>\n",
       "      <td>-1</td>\n",
       "      <td>-2</td>\n",
       "      <td>-2</td>\n",
       "      <td>-2</td>\n",
       "      <td>-1</td>\n",
       "      <td>2</td>\n",
       "      <td>7</td>\n",
       "    </tr>\n",
       "  </tbody>\n",
       "</table>\n",
       "</div>"
      ],
      "text/plain": [
       "   A  C  D  E  F  G  H  I  K  L  M  N  P  Q  R  S  T  V   W  Y\n",
       "A  4  0 -2 -1 -2  0 -2 -1 -1 -1 -1 -2 -1 -1 -1  1  0  0  -3 -2\n",
       "C  0  9 -3 -4 -2 -3 -3 -1 -3 -1 -1 -3 -3 -3 -3 -1 -1 -1  -2 -2\n",
       "D -2 -3  6  2 -3 -1 -1 -3 -1 -4 -3  1 -1  0 -2  0 -1 -3  -4 -3\n",
       "E -1 -4  2  5 -3 -2  0 -3  1 -3 -2  0 -1  2  0  0 -1 -2  -3 -2\n",
       "F -2 -2 -3 -3  6 -3 -1  0 -3  0  0 -3 -4 -3 -3 -2 -2 -1   1  3\n",
       "G  0 -3 -1 -2 -3  6 -2 -4 -2 -4 -3  0 -2 -2 -2  0 -2 -3  -2 -3\n",
       "H -2 -3 -1  0 -1 -2  8 -3 -1 -3 -2  1 -2  0  0 -1 -2 -3  -2  2\n",
       "I -1 -1 -3 -3  0 -4 -3  4 -3  2  1 -3 -3 -3 -3 -2 -1  3  -3 -1\n",
       "K -1 -3 -1  1 -3 -2 -1 -3  5 -2 -1  0 -1  1  2  0 -1 -2  -3 -2\n",
       "L -1 -1 -4 -3  0 -4 -3  2 -2  4  2 -3 -3 -2 -2 -2 -1  1  -2 -1\n",
       "M -1 -1 -3 -2  0 -3 -2  1 -1  2  5 -2 -2  0 -1 -1 -1  1  -1 -1\n",
       "N -2 -3  1  0 -3  0  1 -3  0 -3 -2  6 -2  0  0  1  0 -3  -4 -2\n",
       "P -1 -3 -1 -1 -4 -2 -2 -3 -1 -3 -2 -2  7 -1 -2 -1 -1 -2  -4 -3\n",
       "Q -1 -3  0  2 -3 -2  0 -3  1 -2  0  0 -1  5  1  0 -1 -2  -2 -1\n",
       "R -1 -3 -2  0 -3 -2  0 -3  2 -2 -1  0 -2  1  5 -1 -1 -3  -3 -2\n",
       "S  1 -1  0  0 -2  0 -1 -2  0 -2 -1  1 -1  0 -1  4  1 -2  -3 -2\n",
       "T  0 -1 -1 -1 -2 -2 -2 -1 -1 -1 -1  0 -1 -1 -1  1  5  0  -2 -2\n",
       "V  0 -1 -3 -2 -1 -3 -3  3 -2  1  1 -3 -2 -2 -3 -2  0  4  -3 -1\n",
       "W -3 -2 -4 -3  1 -2 -2 -3 -3 -2 -1 -4 -4 -2 -3 -3 -2 -3  11  2\n",
       "Y -2 -2 -3 -2  3 -3  2 -1 -2 -1 -1 -2 -3 -1 -2 -2 -2 -1   2  7"
      ]
     },
     "execution_count": 323,
     "metadata": {},
     "output_type": "execute_result"
    }
   ],
   "source": [
    "# Loading scoring matrix\n",
    "pd.options.display.max_columns = None\n",
    "scoring_matrix = pd.read_csv('D:/Data Science/Data/Comparing genes, proteins, genome/BLOSUM62.txt',\n",
    "                            sep = '\\s+')\n",
    "scoring_matrix"
   ]
  },
  {
   "cell_type": "code",
   "execution_count": 347,
   "metadata": {},
   "outputs": [],
   "source": [
    "\"\"\"Longest Common Subsequence (LCS) Backtracking with scoring matrix in the Alignment Graph\"\"\"\n",
    "def build_lcs_back_track_with_scoring_matrix(v, w, scoring_matrix, sigma):\n",
    "    back_track = np.array([[\"\" for j in range(len(w)+1)] for i in range(len(v)+1)])\n",
    "    s = np.zeros((len(v) + 1, len(w) + 1))\n",
    "    score = scoring_matrix.loc[list(v), list(w)]\n",
    "    \n",
    "    for i in range(1, len(v) + 1):\n",
    "        s[i, 0] = s[i-1, 0] - sigma\n",
    "    for j in range(1, len(w) + 1):\n",
    "        s[0, j] = s[0, j-1] - sigma\n",
    "    for i in range(1, len(v) + 1):\n",
    "        for j in range(1, len(w) + 1):\n",
    "            s[i, j] = max(s[i-1, j] - sigma, \n",
    "                          s[i, j-1] - sigma, \n",
    "                          s[i-1, j-1] + score.iloc[i-1, j-1])\n",
    "            if s[i, j] == s[i, j-1] - sigma:\n",
    "                back_track[i, j] = \"→\"\n",
    "            elif s[i, j] == s[i-1, j] - sigma:\n",
    "                back_track[i, j] = \"↓\"\n",
    "            elif s[i, j] == s[i-1, j-1] + score.iloc[i-1, j-1]:\n",
    "                back_track[i, j] = \"↘\"\n",
    "    print('The length: ', s[len(v), len(w)])\n",
    "    return(back_track)"
   ]
  },
  {
   "cell_type": "code",
   "execution_count": 359,
   "metadata": {},
   "outputs": [
    {
     "name": "stdout",
     "output_type": "stream",
     "text": [
      "The length:  1973.0\n"
     ]
    }
   ],
   "source": [
    "back_track = build_lcs_back_track_with_scoring_matrix(v, w, scoring_matrix, 5)"
   ]
  },
  {
   "cell_type": "code",
   "execution_count": 360,
   "metadata": {},
   "outputs": [
    {
     "data": {
      "text/plain": [
       "(800, 775)"
      ]
     },
     "execution_count": 360,
     "metadata": {},
     "output_type": "execute_result"
    }
   ],
   "source": [
    "back_track.shape"
   ]
  },
  {
   "cell_type": "code",
   "execution_count": 362,
   "metadata": {},
   "outputs": [
    {
     "name": "stdout",
     "output_type": "stream",
     "text": [
      "LCS, v alignment và w alignment tương ứng như sau:\n"
     ]
    },
    {
     "data": {
      "text/plain": [
       "('NVSSHFHTQNDMVCPWSNWWAIGWYVSTPLSCHFWAYRNMAEYTKYQKFGSHTLTMCIYSISNVFFQRTYMMGDDGYNPKMRTWTYMKTVQVHETMKNANVNAFNEMFRKFSDHSRHDPICYFVKMHTYRQGLFWQPINNSNLNLCVPCFPQALGRCKYGKCHYHNVWVQSWMKKRVHRLIHNLMCCWNPCKVHMNMRNRIGPNQAKICAKYWMPHRAGWTQKVYQWVISLVMPWEMHGIQWWANCITVFSMVGRVQEKERTQILEKNCSWCLHVFVGVLNGAGIVYHYRCTELTRSSSGSKTWDHQPSWVEAECNVWQQFIEGAHCMRACSYHLLTGWDHHTFDTKHERHDLLLRWFTHFKIFPSYPIHQTNNYEECPITSICYMTPGKHGIFHVMWKTTGTCSAFFESRCYPNDRPAKIGDGTCFMRDCRYLFRKDKFDIQECYIYPHVEWAEVFWPMHVGQNCEMMNIMFNVGHMGYVCYYSTIPCDKIDEVEESCAETF',\n",
       " 'NVSSAHFHTA------QNKS--SDTMVCPAWSNWWAIGHWYRVSTPL--Y-S---CHFWAYRNMAEYTKYQKFGS-Y--HTLTMCIYSMMISNVFFQRTYMMGDDG-----EYNPKMRTWTYMKTVQVHETMKGNAFMEKMFRYWPNGMTTDVWANMASFNEHVMEFKNLRFITYKPEQKFEESDHSRHDPVNVRHWIMHICYFVKMHTYRQLNYKGAKGRLFWQPQRM-ANKISHNRNNYAAYNYGQASDNTNMLNWWDAIFIQELCVPCFPYSLDVVQALGRCKYGG-G-K--EV--CHYH-N---NVWAVQSLWM--V---FKKRVHRLIHNLMCCRWNPCKVHMNMRNRIYEWMCGPNQAKICAKYWMPHRSACY-A-GQWTQKVYQ----A-WYVISLANVMVPLFPVMLNRTYAPF-QDLWHEVMYHGIQWWANCITV-----M-FSMIVGRVQEKERTQILEKNC--GVT-SM-WFWEQHCLHVFVGVFLNGAGIVYHYRCTELTRSSSGSKTWDHQPSHWVEAECNVWQAQFIEGAH---F---CMRACSYDQIVMI-HLLTGWDHHTFDTKHERHDLLSLRWQFFAITHPTQFAHK-FREWVIFKKLIFPSYPIHQQTNNYEEMTCHSRCDSSDYMYGPPLITSEICYMTPGKHGIFHVMWKTTGTCSAFFECNPSCRCYPNDRPAKIGDGTCFCYQGYMRRDCR--E----YLFRKDD-KFDILQECYIYPHVEWAEVFWPMHVEFSDLLVGQGNCEKNCSARMQAGYADMWFLSPNKMKSMSCIMFNVTTGKRGWSHMIGYVVCYIYSTIPCYDKIDKEVEAMHIEYSQIRGKIERSHMYCEIVNTPAFFWMPPLPETF',\n",
       " 'NVSSSHFHTPKLHMDDQNQRYVCDDMVCPPWSNWWAIGLWYSVSTPLPGMKSEESCHFWAYRNMAEYTKYQKFGSGSNPHTLTMCIYSYGISNVFFQRTYMMGDDGCFFFLYYNPKMRTWTYMKTVQVHETMKENA----------N-IQ-EV--N-A-FNEK-M-F---RYWPHNMAPKFARSDHSRHDP------I---CYFVKMHTYRQ----GV---LFWQPEVSDVHEITRMANKPKPANRNN-SGRAN-LNT-N-M-LN-LCVPCFP------QALGRCKYADMGVKAFDSQWCHYHARGLANVWEVQSEWMGCAKHDIKKRVHRLIHNLMCCYWNPCKVHMNMRNRI-----GPNQAKICAKYWMPHRQKSHTAAGDWTQKVYQRQPMCGWGVISLFT-W-GRW-VM-DQWF-PVTENFWGEQMCHGIQWWANCITVRNSHTQPFSMCVGRVQEKERTQILEKNCEQDCEMSVDMYWTIICLHVFVGVSLNGAGIVYHYRCTELTRSSSGSKTWDHQPSIWVEAECNVWQIQFIEGAHTKVWNPDCMRACSYPMSGNPDHLLTGWDHHTFDTKHERHDLLELRWNFLH-TYASAITHPVF-QFA-HK-FIFPSYPIHYQTNNYEEKDAPTACPYGPPLVIPG-ITSLICYMTPGKHGIFHVMWKTTGTCSAFFE---SFRCYPNDRPAKIGDGTCFVTD--MDRDCRAMSTSWFYLFRKDTLKFDIKQECYIYPHVEWAEVFWPMHV-------GQMNCE-DMWFKMKS----MPY---NII-IYG-IMFNVFI-TCGSDHMPGYV-CYKYSTIPCIDKIDREVESA--ERSHTT--LDVNNAEC-LKGA-AVDKYGG--ETF')"
      ]
     },
     "execution_count": 362,
     "metadata": {},
     "output_type": "execute_result"
    }
   ],
   "source": [
    "print(\"LCS, v alignment và w alignment tương ứng như sau:\")\n",
    "output_lcs(back_track, v, w, 799, 774)"
   ]
  },
  {
   "cell_type": "markdown",
   "metadata": {},
   "source": [
    "### 1.4 From Global to Local Alignment"
   ]
  },
  {
   "cell_type": "markdown",
   "metadata": {},
   "source": [
    "#### 1.4.1 Limitations of global alignment"
   ]
  },
  {
   "cell_type": "code",
   "execution_count": null,
   "metadata": {},
   "outputs": [],
   "source": []
  }
 ],
 "metadata": {
  "kernelspec": {
   "display_name": "Python 3",
   "language": "python",
   "name": "python3"
  },
  "language_info": {
   "codemirror_mode": {
    "name": "ipython",
    "version": 3
   },
   "file_extension": ".py",
   "mimetype": "text/x-python",
   "name": "python",
   "nbconvert_exporter": "python",
   "pygments_lexer": "ipython3",
   "version": "3.7.1"
  }
 },
 "nbformat": 4,
 "nbformat_minor": 2
}
